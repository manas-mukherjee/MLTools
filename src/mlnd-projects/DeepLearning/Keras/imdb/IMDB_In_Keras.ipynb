{
 "cells": [
  {
   "cell_type": "markdown",
   "metadata": {},
   "source": [
    "# Analyzing IMDB Data in Keras"
   ]
  },
  {
   "cell_type": "code",
   "execution_count": 12,
   "metadata": {},
   "outputs": [],
   "source": [
    "# Imports\n",
    "import numpy as np\n",
    "import keras\n",
    "from keras.datasets import imdb\n",
    "from keras.models import Sequential\n",
    "from keras.layers import Dense, Dropout, Activation\n",
    "from keras.preprocessing.text import Tokenizer\n",
    "import matplotlib.pyplot as plt\n",
    "%matplotlib inline\n",
    "\n",
    "np.random.seed(42)"
   ]
  },
  {
   "cell_type": "markdown",
   "metadata": {},
   "source": [
    "## 1. Loading the data\n",
    "This dataset comes preloaded with Keras, so one simple command will get us training and testing data. There is a parameter for how many words we want to look at. We've set it at 1000, but feel free to experiment."
   ]
  },
  {
   "cell_type": "code",
   "execution_count": 33,
   "metadata": {},
   "outputs": [
    {
     "name": "stdout",
     "output_type": "stream",
     "text": [
      "(25000,)\n",
      "(25000,)\n"
     ]
    }
   ],
   "source": [
    "# Loading the data (it's preloaded in Keras)\n",
    "(x_train, y_train), (x_test, y_test) = imdb.load_data(num_words=1000)\n",
    "\n",
    "print(x_train.shape)\n",
    "print(x_test.shape)"
   ]
  },
  {
   "cell_type": "markdown",
   "metadata": {},
   "source": [
    "## 2. Examining the data\n",
    "Notice that the data has been already pre-processed, where all the words have numbers, and the reviews come in as a vector with the words that the review contains. For example, if the word 'the' is the first one in our dictionary, and a review contains the word 'the', then there is a 1 in the corresponding vector.\n",
    "\n",
    "The output comes as a vector of 1's and 0's, where 1 is a positive sentiment for the review, and 0 is negative."
   ]
  },
  {
   "cell_type": "code",
   "execution_count": 34,
   "metadata": {},
   "outputs": [
    {
     "name": "stdout",
     "output_type": "stream",
     "text": [
      "[1, 61, 362, 2, 645, 149, 4, 2, 7, 14, 123, 199, 4, 402, 672, 23, 4, 2, 5, 4, 303, 663, 23, 2, 223, 5, 36, 119, 12, 13, 286, 2, 4, 123, 69, 60, 2, 501, 4, 86, 42, 333, 811, 146, 2, 17, 8, 51, 2, 32, 7, 4, 177, 2, 207, 110, 98, 2, 17, 545, 2, 5, 246, 6, 320, 634, 2, 2, 23, 4, 2, 28, 2, 164, 21, 2, 795, 23, 89, 4, 402, 672, 71, 38, 76, 128, 74, 4, 303, 672, 2, 13, 92, 67, 6, 226, 176, 7, 2, 4, 2, 5, 2, 2, 2, 4, 172, 469, 21, 36, 81, 2, 49, 87, 84, 367, 4, 96, 61, 577, 47, 276, 4, 2, 23, 41, 657, 2, 38, 382, 4, 2, 7, 318, 944, 5, 2, 80, 2, 49, 641, 23, 32, 7, 14, 13, 82, 657, 2, 224, 49, 532, 2, 486, 44, 4, 2, 40, 23, 430, 892, 182, 121, 36, 2, 4, 117, 799, 18, 35, 436, 811, 42, 38, 5, 54, 6, 275, 284, 303, 287, 56, 395, 41, 36, 942, 41, 121, 442, 77, 5, 59, 560, 2, 42, 54, 402, 201, 2, 2, 2, 287, 56, 18, 4, 312, 396, 2, 36, 942, 90, 121, 240, 77, 5, 29, 560, 120, 50, 2, 8, 4, 173, 7, 4, 2, 115, 617, 34, 4, 370, 159, 660, 2, 443, 2, 858, 56, 5, 620, 125, 268, 443, 2, 112, 160, 109, 37, 317, 449, 73, 279, 50, 80, 30, 35, 963, 283, 363, 65, 23, 14, 42, 142, 13, 16, 43, 2, 8, 67, 2, 2, 123, 56, 18, 4, 2, 59, 16, 210, 31, 7, 61, 2, 45, 99, 78, 12, 426, 28, 77, 6, 53, 2, 177, 2, 4, 2, 2, 43, 161, 605, 12, 18, 72]\n",
      "1\n"
     ]
    }
   ],
   "source": [
    "print(x_train[0])\n",
    "print(y_train[0])"
   ]
  },
  {
   "cell_type": "markdown",
   "metadata": {},
   "source": [
    "## 3. One-hot encoding the output\n",
    "Here, we'll turn the input vectors into (0,1)-vectors. For example, if the pre-processed vector contains the number 14, then in the processed vector, the 14th entry will be 1."
   ]
  },
  {
   "cell_type": "code",
   "execution_count": 35,
   "metadata": {},
   "outputs": [
    {
     "name": "stdout",
     "output_type": "stream",
     "text": [
      "(25000, 1000)\n",
      "(25000, 1000)\n"
     ]
    }
   ],
   "source": [
    "# One-hot encoding the output into vector mode, each of length 1000\n",
    "tokenizer = Tokenizer(num_words=1000)\n",
    "x_train = tokenizer.sequences_to_matrix(x_train, mode='binary')\n",
    "x_test = tokenizer.sequences_to_matrix(x_test, mode='binary')\n",
    "print(x_train.shape)\n",
    "print(x_test.shape)"
   ]
  },
  {
   "cell_type": "markdown",
   "metadata": {},
   "source": [
    "And we'll also one-hot encode the output."
   ]
  },
  {
   "cell_type": "code",
   "execution_count": 36,
   "metadata": {},
   "outputs": [
    {
     "name": "stdout",
     "output_type": "stream",
     "text": [
      "(25000, 2)\n",
      "(25000, 2)\n"
     ]
    }
   ],
   "source": [
    "# One-hot encoding the output\n",
    "num_classes = 2\n",
    "y_train = keras.utils.to_categorical(y_train, num_classes)\n",
    "y_test = keras.utils.to_categorical(y_test, num_classes)\n",
    "print(y_train.shape)\n",
    "print(y_test.shape)"
   ]
  },
  {
   "cell_type": "markdown",
   "metadata": {},
   "source": [
    "## 4. Building the  model architecture\n",
    "Build a model here using sequential. Feel free to experiment with different layers and sizes! Also, experiment adding dropout to reduce overfitting."
   ]
  },
  {
   "cell_type": "code",
   "execution_count": 60,
   "metadata": {},
   "outputs": [
    {
     "name": "stdout",
     "output_type": "stream",
     "text": [
      "_________________________________________________________________\n",
      "Layer (type)                 Output Shape              Param #   \n",
      "=================================================================\n",
      "dense_15 (Dense)             (None, 500)               500500    \n",
      "_________________________________________________________________\n",
      "dropout_10 (Dropout)         (None, 500)               0         \n",
      "_________________________________________________________________\n",
      "dense_16 (Dense)             (None, 2)                 1002      \n",
      "=================================================================\n",
      "Total params: 501,502\n",
      "Trainable params: 501,502\n",
      "Non-trainable params: 0\n",
      "_________________________________________________________________\n"
     ]
    }
   ],
   "source": [
    "# Imports\n",
    "import numpy as np\n",
    "from keras.models import Sequential\n",
    "from keras.layers.core import Dense, Dropout, Activation\n",
    "from keras.optimizers import SGD\n",
    "from keras.utils import np_utils\n",
    "from IPython.display import clear_output\n",
    "\n",
    "# TODO: Build the model architecture\n",
    "model = Sequential()\n",
    "model.add(Dense(500, activation='relu', input_shape=(1000,)))\n",
    "model.add(Dropout(0.5))\n",
    "model.add(Dense(2, activation='softmax'))\n",
    "\n",
    "# TODO: Compile the model using a loss function and an optimizer.\n",
    "model.compile(loss = 'categorical_crossentropy', optimizer='adam', metrics=['accuracy'])\n",
    "\n",
    "# TODO : Testing only\n",
    "model.summary()"
   ]
  },
  {
   "cell_type": "markdown",
   "metadata": {},
   "source": [
    "## 5. Training the model\n",
    "Run the model here. Experiment with different batch_size, and number of epochs!"
   ]
  },
  {
   "cell_type": "code",
   "execution_count": 54,
   "metadata": {},
   "outputs": [
    {
     "name": "stdout",
     "output_type": "stream",
     "text": [
      "Training started\n",
      "Epoch 1/30\n",
      " - 1s - loss: 0.0075 - acc: 0.9985\n",
      "Epoch 2/30\n",
      " - 1s - loss: 0.0054 - acc: 0.9991\n",
      "Epoch 3/30\n",
      " - 1s - loss: 0.0055 - acc: 0.9988\n",
      "Epoch 4/30\n",
      " - 1s - loss: 0.0052 - acc: 0.9992\n",
      "Epoch 5/30\n",
      " - 1s - loss: 0.0044 - acc: 0.9993\n",
      "Epoch 6/30\n",
      " - 1s - loss: 0.0041 - acc: 0.9993\n",
      "Epoch 7/30\n",
      " - 1s - loss: 0.0036 - acc: 0.9996\n",
      "Epoch 8/30\n",
      " - 1s - loss: 0.0039 - acc: 0.9993\n",
      "Epoch 9/30\n",
      " - 1s - loss: 0.0033 - acc: 0.9996\n",
      "Epoch 10/30\n",
      " - 1s - loss: 0.0029 - acc: 0.9997\n",
      "Epoch 11/30\n",
      " - 1s - loss: 0.0031 - acc: 0.9996\n",
      "Epoch 12/30\n",
      " - 1s - loss: 0.0030 - acc: 0.9996\n",
      "Epoch 13/30\n",
      " - 1s - loss: 0.0026 - acc: 0.9997\n",
      "Epoch 14/30\n",
      " - 1s - loss: 0.0029 - acc: 0.9997\n",
      "Epoch 15/30\n",
      " - 1s - loss: 0.0029 - acc: 0.9996\n",
      "Epoch 16/30\n",
      " - 1s - loss: 0.0025 - acc: 0.9997\n",
      "Epoch 17/30\n",
      " - 1s - loss: 0.0022 - acc: 0.9998\n",
      "Epoch 18/30\n",
      " - 1s - loss: 0.0028 - acc: 0.9997\n",
      "Epoch 19/30\n",
      " - 1s - loss: 0.0026 - acc: 0.9996\n",
      "Epoch 20/30\n",
      " - 1s - loss: 0.0025 - acc: 0.9997\n",
      "Epoch 21/30\n",
      " - 1s - loss: 0.0024 - acc: 0.9997\n",
      "Epoch 22/30\n",
      " - 1s - loss: 0.0024 - acc: 0.9997\n",
      "Epoch 23/30\n",
      " - 1s - loss: 0.0025 - acc: 0.9996\n",
      "Epoch 24/30\n",
      " - 1s - loss: 0.0028 - acc: 0.9996\n",
      "Epoch 25/30\n",
      " - 1s - loss: 0.0027 - acc: 0.9995\n",
      "Epoch 26/30\n",
      " - 1s - loss: 0.0021 - acc: 0.9998\n",
      "Epoch 27/30\n",
      " - 1s - loss: 0.0025 - acc: 0.9994\n",
      "Epoch 28/30\n",
      " - 1s - loss: 0.0021 - acc: 0.9996\n",
      "Epoch 29/30\n",
      " - 1s - loss: 0.0021 - acc: 0.9996\n",
      "Epoch 30/30\n",
      " - 1s - loss: 0.0021 - acc: 0.9997\n",
      "Training completed\n"
     ]
    }
   ],
   "source": [
    "# TODO: Run the model. Feel free to experiment with different batch sizes and number of epochs.\n",
    "print (\"Training started\")\n",
    "model.fit(x_train, y_train, epochs=30, batch_size=512, verbose=2)\n",
    "print (\"Training completed\")"
   ]
  },
  {
   "cell_type": "code",
   "execution_count": 58,
   "metadata": {
    "collapsed": true
   },
   "outputs": [],
   "source": [
    "class PlotLosses(keras.callbacks.Callback):\n",
    "    def on_train_begin(self, logs={}):\n",
    "        self.i = 0\n",
    "        self.x = []\n",
    "        self.losses = []\n",
    "        self.val_losses = []\n",
    "        \n",
    "        self.fig = plt.figure()\n",
    "        \n",
    "        self.logs = []\n",
    "\n",
    "    def on_epoch_end(self, epoch, logs={}):\n",
    "        \n",
    "        self.logs.append(logs)\n",
    "        self.x.append(self.i)\n",
    "        self.losses.append(logs.get('loss'))\n",
    "        self.val_losses.append(logs.get('val_loss'))\n",
    "        self.i += 1\n",
    "        \n",
    "        clear_output(wait=True)\n",
    "        plt.plot(self.x, self.losses, label=\"loss\")\n",
    "        plt.plot(self.x, self.val_losses, label=\"val_loss\")\n",
    "        plt.legend()\n",
    "        plt.show();\n",
    "        \n",
    "plot_losses = PlotLosses()"
   ]
  },
  {
   "cell_type": "code",
   "execution_count": 63,
   "metadata": {},
   "outputs": [
    {
     "data": {
      "image/png": "[encoded data removed]",
      "text/plain": [
       "<matplotlib.figure.Figure at 0x13486be10>"
      ]
     },
     "metadata": {},
     "output_type": "display_data"
    },
    {
     "name": "stdout",
     "output_type": "stream",
     "text": [
      " - 7s - loss: 0.0234 - acc: 0.9922 - val_loss: 0.7086 - val_acc: 0.8539\n"
     ]
    }
   ],
   "source": [
    "hist = model.fit(x_train, y_train,\n",
    "          batch_size=32,\n",
    "          epochs=10,\n",
    "          validation_data=(x_test, y_test), \n",
    "          callbacks=[plot_losses],\n",
    "          verbose=2)\n",
    "# https://gist.github.com/stared/dfb4dfaf6d9a8501cd1cc8b8cb806d2e"
   ]
  },
  {
   "cell_type": "markdown",
   "metadata": {},
   "source": [
    "## 6. Evaluating the model\n",
    "This will give you the accuracy of the model, as evaluated on the testing set. Can you get something over 85%?"
   ]
  },
  {
   "cell_type": "code",
   "execution_count": 55,
   "metadata": {},
   "outputs": [
    {
     "name": "stdout",
     "output_type": "stream",
     "text": [
      "('Accuracy: ', 0.86007999999999996)\n"
     ]
    }
   ],
   "source": [
    "score = model.evaluate(x_test, y_test, verbose=0)\n",
    "print(\"Accuracy: \", score[1])"
   ]
  },
  {
   "cell_type": "code",
   "execution_count": null,
   "metadata": {
    "collapsed": true
   },
   "outputs": [],
   "source": [
    ""
   ]
  }
 ],
 "metadata": {
  "kernelspec": {
   "display_name": "Python 2",
   "language": "python",
   "name": "python2"
  },
  "language_info": {
   "codemirror_mode": {
    "name": "ipython",
    "version": 2.0
   },
   "file_extension": ".py",
   "mimetype": "text/x-python",
   "name": "python",
   "nbconvert_exporter": "python",
   "pygments_lexer": "ipython2",
   "version": "2.7.11"
  }
 },
 "nbformat": 4,
 "nbformat_minor": 0
}