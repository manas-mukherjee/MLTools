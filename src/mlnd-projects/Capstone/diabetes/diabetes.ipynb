{
 "cells": [
  {
   "cell_type": "markdown",
   "metadata": {},
   "source": [
    "# Machine Learning Engineer Nanodegree - Capstone Project\n",
    "\n",
    "## Project: ML model to accurately predict whether or not the patients in the dataset have diabetes"
   ]
  },
  {
   "cell_type": "markdown",
   "metadata": {},
   "source": [
    "### Project Overview \n",
    "\n",
    "Diabetes is a major chronic disease that affects more than 30 million people in the United States. The American Diabetes Association released new research on March 22, 2018 estimating the total costs of diagnosed diabetes have risen to \\$327 billion in 2017 from \\$245 billion in 2012, when the cost was last examined.\n",
    "\n",
    "It occurs either when the pancreas does not produce enough insulin or when the body cannot effectively use the insulin it produces. Insulin is a hormone that regulates blood sugar. Hyperglycemia, or raised blood sugar, is a common effect of uncontrolled diabetes and over time leads to serious damage to many of the body's systems, especially the nerves and blood vessels.\n"
   ]
  },
  {
   "cell_type": "markdown",
   "metadata": {},
   "source": [
    "### Problem Statement\n",
    "\n",
    "The goal of this project is to build a machine learning model to predict the onset of diabetes based on some diagnostic measures. The expected outcome of this project is to contribute to the clinical research study related to diabetes.\n",
    "\n",
    "MAIN OBJECTIVE: Build a mathematical model to predict whether or not a patient has diabetes, based on certain diagnostic measurements.\n",
    "\n",
    "SECONDARY OBJECTIVE: Identify important features or a set of clusters of features that are highly related to diabetes.\n",
    "\n",
    "The data includes a binary prediction variable(label) outcome. In this task, it is required to build a function that will map the set of input features with the binary outcome(true/false). I would consider this as a supervised 'binary classification' task."
   ]
  },
  {
   "cell_type": "markdown",
   "metadata": {},
   "source": [
    "### Datasets and Inputs\n",
    "\n",
    "The datasets consists of several medical predictor variables and one target variable, Outcome. Predictor variables includes the number of pregnancies the patient has had, their BMI, insulin level, age, and so on.\n",
    "\n",
    "Source : https://www.kaggle.com/uciml/pima-indians-diabetes-database \n",
    "\n",
    "PN : This dataset is originally from the National Institute of Diabetes and Digestive and Kidney Diseases.\n",
    "\n",
    "|Feature Name| Description |Datetype |\n",
    "|:-------------|:-------------|:-----|\n",
    "|Pregnancies | Number of times pregnant |Numeric|\n",
    "|Glucose | Plasma glucose concentration a 2 hours in an oral glucose tolerance test|Numeric|\n",
    "|BloodPressure|Diastolic blood pressure (mm Hg)|Numeric|\n",
    "|SkinThickness|Triceps skin fold thickness (mm)|Numeric|\n",
    "|Insulin|2-Hour serum insulin (mu U/ml)|Numeric|\n",
    "|BMI|Body mass index (weight in kg/(height in m)^2)|Numeric|\n",
    "|DiabetesPedigreeFunction|Diabetes pedigree function|Numeric|\n",
    "|Age|Age (years)|Numeric|\n",
    "|**Outcome**|Class variable (0 or 1)|Numeric|"
   ]
  },
  {
   "cell_type": "markdown",
   "metadata": {},
   "source": [
    "## 1. Environment and Libraries setp"
   ]
  },
  {
   "cell_type": "code",
   "execution_count": 343,
   "metadata": {
    "collapsed": true
   },
   "outputs": [],
   "source": [
    "# Import libraries necessary for this project\n",
    "import numpy as np\n",
    "import pandas as pd\n",
    "import seaborn as sns\n",
    "import matplotlib.pyplot as plt\n",
    "\n",
    "from time import time\n",
    "from IPython.display import display # Allows the use of display() for DataFrames\n",
    "\n",
    "# Import supplementary visualization code visuals.py\n",
    "import visuals as vs"
   ]
  },
  {
   "cell_type": "markdown",
   "metadata": {},
   "source": [
    "## 2. Analysis"
   ]
  },
  {
   "cell_type": "markdown",
   "metadata": {},
   "source": [
    "### 2a. Data Exploration"
   ]
  },
  {
   "cell_type": "code",
   "execution_count": 344,
   "metadata": {},
   "outputs": [
    {
     "name": "stdout",
     "output_type": "stream",
     "text": [
      "This dataset has 768 samples with 9 features each.\n",
      "\n",
      "Display the first 10 record\n"
     ]
    },
    {
     "data": {
      "text/html": [
       "<div>\n",
       "<style>\n",
       "    .dataframe thead tr:only-child th {\n",
       "        text-align: right;\n",
       "    }\n",
       "\n",
       "    .dataframe thead th {\n",
       "        text-align: left;\n",
       "    }\n",
       "\n",
       "    .dataframe tbody tr th {\n",
       "        vertical-align: top;\n",
       "    }\n",
       "</style>\n",
       "<table border=\"1\" class=\"dataframe\">\n",
       "  <thead>\n",
       "    <tr style=\"text-align: right;\">\n",
       "      <th></th>\n",
       "      <th>Pregnancies</th>\n",
       "      <th>Glucose</th>\n",
       "      <th>BloodPressure</th>\n",
       "      <th>SkinThickness</th>\n",
       "      <th>Insulin</th>\n",
       "      <th>BMI</th>\n",
       "      <th>DiabetesPedigreeFunction</th>\n",
       "      <th>Age</th>\n",
       "      <th>Outcome</th>\n",
       "    </tr>\n",
       "  </thead>\n",
       "  <tbody>\n",
       "    <tr>\n",
       "      <th>0</th>\n",
       "      <td>6</td>\n",
       "      <td>148</td>\n",
       "      <td>72</td>\n",
       "      <td>35</td>\n",
       "      <td>0</td>\n",
       "      <td>33.6</td>\n",
       "      <td>0.627</td>\n",
       "      <td>50</td>\n",
       "      <td>1</td>\n",
       "    </tr>\n",
       "    <tr>\n",
       "      <th>1</th>\n",
       "      <td>1</td>\n",
       "      <td>85</td>\n",
       "      <td>66</td>\n",
       "      <td>29</td>\n",
       "      <td>0</td>\n",
       "      <td>26.6</td>\n",
       "      <td>0.351</td>\n",
       "      <td>31</td>\n",
       "      <td>0</td>\n",
       "    </tr>\n",
       "    <tr>\n",
       "      <th>2</th>\n",
       "      <td>8</td>\n",
       "      <td>183</td>\n",
       "      <td>64</td>\n",
       "      <td>0</td>\n",
       "      <td>0</td>\n",
       "      <td>23.3</td>\n",
       "      <td>0.672</td>\n",
       "      <td>32</td>\n",
       "      <td>1</td>\n",
       "    </tr>\n",
       "    <tr>\n",
       "      <th>3</th>\n",
       "      <td>1</td>\n",
       "      <td>89</td>\n",
       "      <td>66</td>\n",
       "      <td>23</td>\n",
       "      <td>94</td>\n",
       "      <td>28.1</td>\n",
       "      <td>0.167</td>\n",
       "      <td>21</td>\n",
       "      <td>0</td>\n",
       "    </tr>\n",
       "    <tr>\n",
       "      <th>4</th>\n",
       "      <td>0</td>\n",
       "      <td>137</td>\n",
       "      <td>40</td>\n",
       "      <td>35</td>\n",
       "      <td>168</td>\n",
       "      <td>43.1</td>\n",
       "      <td>2.288</td>\n",
       "      <td>33</td>\n",
       "      <td>1</td>\n",
       "    </tr>\n",
       "    <tr>\n",
       "      <th>5</th>\n",
       "      <td>5</td>\n",
       "      <td>116</td>\n",
       "      <td>74</td>\n",
       "      <td>0</td>\n",
       "      <td>0</td>\n",
       "      <td>25.6</td>\n",
       "      <td>0.201</td>\n",
       "      <td>30</td>\n",
       "      <td>0</td>\n",
       "    </tr>\n",
       "    <tr>\n",
       "      <th>6</th>\n",
       "      <td>3</td>\n",
       "      <td>78</td>\n",
       "      <td>50</td>\n",
       "      <td>32</td>\n",
       "      <td>88</td>\n",
       "      <td>31.0</td>\n",
       "      <td>0.248</td>\n",
       "      <td>26</td>\n",
       "      <td>1</td>\n",
       "    </tr>\n",
       "    <tr>\n",
       "      <th>7</th>\n",
       "      <td>10</td>\n",
       "      <td>115</td>\n",
       "      <td>0</td>\n",
       "      <td>0</td>\n",
       "      <td>0</td>\n",
       "      <td>35.3</td>\n",
       "      <td>0.134</td>\n",
       "      <td>29</td>\n",
       "      <td>0</td>\n",
       "    </tr>\n",
       "    <tr>\n",
       "      <th>8</th>\n",
       "      <td>2</td>\n",
       "      <td>197</td>\n",
       "      <td>70</td>\n",
       "      <td>45</td>\n",
       "      <td>543</td>\n",
       "      <td>30.5</td>\n",
       "      <td>0.158</td>\n",
       "      <td>53</td>\n",
       "      <td>1</td>\n",
       "    </tr>\n",
       "    <tr>\n",
       "      <th>9</th>\n",
       "      <td>8</td>\n",
       "      <td>125</td>\n",
       "      <td>96</td>\n",
       "      <td>0</td>\n",
       "      <td>0</td>\n",
       "      <td>0.0</td>\n",
       "      <td>0.232</td>\n",
       "      <td>54</td>\n",
       "      <td>1</td>\n",
       "    </tr>\n",
       "  </tbody>\n",
       "</table>\n",
       "</div>"
      ],
      "text/plain": [
       "   Pregnancies  Glucose  BloodPressure  SkinThickness  Insulin   BMI  \\\n",
       "0            6      148             72             35        0  33.6   \n",
       "1            1       85             66             29        0  26.6   \n",
       "2            8      183             64              0        0  23.3   \n",
       "3            1       89             66             23       94  28.1   \n",
       "4            0      137             40             35      168  43.1   \n",
       "5            5      116             74              0        0  25.6   \n",
       "6            3       78             50             32       88  31.0   \n",
       "7           10      115              0              0        0  35.3   \n",
       "8            2      197             70             45      543  30.5   \n",
       "9            8      125             96              0        0   0.0   \n",
       "\n",
       "   DiabetesPedigreeFunction  Age  Outcome  \n",
       "0                     0.627   50        1  \n",
       "1                     0.351   31        0  \n",
       "2                     0.672   32        1  \n",
       "3                     0.167   21        0  \n",
       "4                     2.288   33        1  \n",
       "5                     0.201   30        0  \n",
       "6                     0.248   26        1  \n",
       "7                     0.134   29        0  \n",
       "8                     0.158   53        1  \n",
       "9                     0.232   54        1  "
      ]
     },
     "metadata": {},
     "output_type": "display_data"
    },
    {
     "name": "stdout",
     "output_type": "stream",
     "text": [
      "Statistical description of dataset\n",
      "--------------------------------------\n"
     ]
    },
    {
     "data": {
      "text/html": [
       "<div>\n",
       "<style>\n",
       "    .dataframe thead tr:only-child th {\n",
       "        text-align: right;\n",
       "    }\n",
       "\n",
       "    .dataframe thead th {\n",
       "        text-align: left;\n",
       "    }\n",
       "\n",
       "    .dataframe tbody tr th {\n",
       "        vertical-align: top;\n",
       "    }\n",
       "</style>\n",
       "<table border=\"1\" class=\"dataframe\">\n",
       "  <thead>\n",
       "    <tr style=\"text-align: right;\">\n",
       "      <th></th>\n",
       "      <th>Pregnancies</th>\n",
       "      <th>Glucose</th>\n",
       "      <th>BloodPressure</th>\n",
       "      <th>SkinThickness</th>\n",
       "      <th>Insulin</th>\n",
       "      <th>BMI</th>\n",
       "      <th>DiabetesPedigreeFunction</th>\n",
       "      <th>Age</th>\n",
       "      <th>Outcome</th>\n",
       "    </tr>\n",
       "  </thead>\n",
       "  <tbody>\n",
       "    <tr>\n",
       "      <th>count</th>\n",
       "      <td>768.000000</td>\n",
       "      <td>768.000000</td>\n",
       "      <td>768.000000</td>\n",
       "      <td>768.000000</td>\n",
       "      <td>768.000000</td>\n",
       "      <td>768.000000</td>\n",
       "      <td>768.000000</td>\n",
       "      <td>768.000000</td>\n",
       "      <td>768.000000</td>\n",
       "    </tr>\n",
       "    <tr>\n",
       "      <th>mean</th>\n",
       "      <td>3.845052</td>\n",
       "      <td>120.894531</td>\n",
       "      <td>69.105469</td>\n",
       "      <td>20.536458</td>\n",
       "      <td>79.799479</td>\n",
       "      <td>31.992578</td>\n",
       "      <td>0.471876</td>\n",
       "      <td>33.240885</td>\n",
       "      <td>0.348958</td>\n",
       "    </tr>\n",
       "    <tr>\n",
       "      <th>std</th>\n",
       "      <td>3.369578</td>\n",
       "      <td>31.972618</td>\n",
       "      <td>19.355807</td>\n",
       "      <td>15.952218</td>\n",
       "      <td>115.244002</td>\n",
       "      <td>7.884160</td>\n",
       "      <td>0.331329</td>\n",
       "      <td>11.760232</td>\n",
       "      <td>0.476951</td>\n",
       "    </tr>\n",
       "    <tr>\n",
       "      <th>min</th>\n",
       "      <td>0.000000</td>\n",
       "      <td>0.000000</td>\n",
       "      <td>0.000000</td>\n",
       "      <td>0.000000</td>\n",
       "      <td>0.000000</td>\n",
       "      <td>0.000000</td>\n",
       "      <td>0.078000</td>\n",
       "      <td>21.000000</td>\n",
       "      <td>0.000000</td>\n",
       "    </tr>\n",
       "    <tr>\n",
       "      <th>25%</th>\n",
       "      <td>1.000000</td>\n",
       "      <td>99.000000</td>\n",
       "      <td>62.000000</td>\n",
       "      <td>0.000000</td>\n",
       "      <td>0.000000</td>\n",
       "      <td>27.300000</td>\n",
       "      <td>0.243750</td>\n",
       "      <td>24.000000</td>\n",
       "      <td>0.000000</td>\n",
       "    </tr>\n",
       "    <tr>\n",
       "      <th>50%</th>\n",
       "      <td>3.000000</td>\n",
       "      <td>117.000000</td>\n",
       "      <td>72.000000</td>\n",
       "      <td>23.000000</td>\n",
       "      <td>30.500000</td>\n",
       "      <td>32.000000</td>\n",
       "      <td>0.372500</td>\n",
       "      <td>29.000000</td>\n",
       "      <td>0.000000</td>\n",
       "    </tr>\n",
       "    <tr>\n",
       "      <th>75%</th>\n",
       "      <td>6.000000</td>\n",
       "      <td>140.250000</td>\n",
       "      <td>80.000000</td>\n",
       "      <td>32.000000</td>\n",
       "      <td>127.250000</td>\n",
       "      <td>36.600000</td>\n",
       "      <td>0.626250</td>\n",
       "      <td>41.000000</td>\n",
       "      <td>1.000000</td>\n",
       "    </tr>\n",
       "    <tr>\n",
       "      <th>max</th>\n",
       "      <td>17.000000</td>\n",
       "      <td>199.000000</td>\n",
       "      <td>122.000000</td>\n",
       "      <td>99.000000</td>\n",
       "      <td>846.000000</td>\n",
       "      <td>67.100000</td>\n",
       "      <td>2.420000</td>\n",
       "      <td>81.000000</td>\n",
       "      <td>1.000000</td>\n",
       "    </tr>\n",
       "  </tbody>\n",
       "</table>\n",
       "</div>"
      ],
      "text/plain": [
       "       Pregnancies     Glucose  BloodPressure  SkinThickness     Insulin  \\\n",
       "count   768.000000  768.000000     768.000000     768.000000  768.000000   \n",
       "mean      3.845052  120.894531      69.105469      20.536458   79.799479   \n",
       "std       3.369578   31.972618      19.355807      15.952218  115.244002   \n",
       "min       0.000000    0.000000       0.000000       0.000000    0.000000   \n",
       "25%       1.000000   99.000000      62.000000       0.000000    0.000000   \n",
       "50%       3.000000  117.000000      72.000000      23.000000   30.500000   \n",
       "75%       6.000000  140.250000      80.000000      32.000000  127.250000   \n",
       "max      17.000000  199.000000     122.000000      99.000000  846.000000   \n",
       "\n",
       "              BMI  DiabetesPedigreeFunction         Age     Outcome  \n",
       "count  768.000000                768.000000  768.000000  768.000000  \n",
       "mean    31.992578                  0.471876   33.240885    0.348958  \n",
       "std      7.884160                  0.331329   11.760232    0.476951  \n",
       "min      0.000000                  0.078000   21.000000    0.000000  \n",
       "25%     27.300000                  0.243750   24.000000    0.000000  \n",
       "50%     32.000000                  0.372500   29.000000    0.000000  \n",
       "75%     36.600000                  0.626250   41.000000    1.000000  \n",
       "max     67.100000                  2.420000   81.000000    1.000000  "
      ]
     },
     "metadata": {},
     "output_type": "display_data"
    },
    {
     "name": "stdout",
     "output_type": "stream",
     "text": [
      "Note\n",
      "-----\n",
      "All values are numerical\n",
      "'Outcome' is the target/label variable that can have only binary value(0/1)\n",
      "\n",
      "\n",
      "<class 'pandas.core.frame.DataFrame'>\n",
      "RangeIndex: 768 entries, 0 to 767\n",
      "Data columns (total 9 columns):\n",
      "Pregnancies                 768 non-null int64\n",
      "Glucose                     768 non-null int64\n",
      "BloodPressure               768 non-null int64\n",
      "SkinThickness               768 non-null int64\n",
      "Insulin                     768 non-null int64\n",
      "BMI                         768 non-null float64\n",
      "DiabetesPedigreeFunction    768 non-null float64\n",
      "Age                         768 non-null int64\n",
      "Outcome                     768 non-null int64\n",
      "dtypes: float64(2), int64(7)\n",
      "memory usage: 54.1 KB\n"
     ]
    }
   ],
   "source": [
    "# Load the Diabetes dataset\n",
    "data = pd.read_csv(\"diabetes.csv\")\n",
    "\n",
    "# Summary of the records\n",
    "print (\"This dataset has {} samples with {} features each.\".format(data.shape[0], data.shape[1]))\n",
    "#print('We are the {} who say \"{}!\"'.format('knights', 'Ni'))\n",
    "\n",
    "# Display the first 10 record\n",
    "print (\"\\nDisplay the first 10 record\")\n",
    "display(data.head(n=10))\n",
    "\n",
    "# Describe the data\n",
    "print (\"Statistical description of dataset\\n--------------------------------------\")\n",
    "display(data.describe())\n",
    "\n",
    "print ('Note\\n-----')\n",
    "print ('All values are numerical')\n",
    "print (\"'Outcome' is the target/label variable that can have only binary value(0/1)\\n\\n\")\n",
    "data.info()"
   ]
  },
  {
   "cell_type": "code",
   "execution_count": 345,
   "metadata": {},
   "outputs": [
    {
     "name": "stdout",
     "output_type": "stream",
     "text": [
      "\n",
      "Total number of individuals: 768\n",
      "Individuals with diabetes: 268\n",
      "Individuals without diabetes: 500\n",
      "Percentage of individuals with diabetes: 34.90%\n",
      "\n"
     ]
    },
    {
     "data": {
      "text/plain": [
       "<matplotlib.axes._subplots.AxesSubplot at 0x1a52326710>"
      ]
     },
     "execution_count": 345,
     "metadata": {},
     "output_type": "execute_result"
    },
    {
     "data": {
      "image/png": "[encoded data removed]",
      "text/plain": [
       "<matplotlib.figure.Figure at 0x1a51bdd5f8>"
      ]
     },
     "metadata": {},
     "output_type": "display_data"
    }
   ],
   "source": [
    "# Evaluate the balance(number of instances per lebel) of the data set \n",
    "n_records = data.shape[0]\n",
    "n_with_diabetes = data[data[\"Outcome\"]==1].shape[0]\n",
    "n_without_diabetes = data[data[\"Outcome\"]==0].shape[0]\n",
    "greater_percent = (n_with_diabetes*100)/float(n_records)\n",
    "\n",
    "print (\"\\nTotal number of individuals: {}\".format(n_records))\n",
    "print (\"Individuals with diabetes: {}\".format(n_with_diabetes))\n",
    "print (\"Individuals without diabetes: {}\".format(n_without_diabetes))\n",
    "print (\"Percentage of individuals with diabetes: {:.2f}%\\n\".format(greater_percent))\n",
    "\n",
    "# Count of instances per Target/Label variable Viz\n",
    "sns.countplot(data['Outcome'],label=\"Count\")"
   ]
  },
  {
   "cell_type": "markdown",
   "metadata": {},
   "source": [
    "Note - \n",
    "Since 500 out of 768 individuals don't have diabetes, so it would considered as an unbalanced dataset."
   ]
  },
  {
   "cell_type": "markdown",
   "metadata": {},
   "source": [
    "### 2b. Exploratory Visualization"
   ]
  },
  {
   "cell_type": "markdown",
   "metadata": {},
   "source": [
    "#### 2b-1. Check number of 0 or missing values"
   ]
  },
  {
   "cell_type": "code",
   "execution_count": 346,
   "metadata": {},
   "outputs": [
    {
     "data": {
      "image/png": "[encoded data removed]",
      "text/plain": [
       "<matplotlib.figure.Figure at 0x1a519ed0b8>"
      ]
     },
     "metadata": {},
     "output_type": "display_data"
    }
   ],
   "source": [
    "# Missing Or Unwanted 0 values \n",
    "featurelist = []\n",
    "count_of_zero_list = []\n",
    "\n",
    "for col in data:\n",
    "    cnt = 0\n",
    "    for i in data[col]:\n",
    "        if i==0:\n",
    "            cnt = cnt + 1\n",
    "    if col!='Outcome':\n",
    "        #print (col, \"-\", cnt)\n",
    "        featurelist.append(col)\n",
    "        count_of_zero_list.append(cnt)\n",
    "        \n",
    "objects = tuple(featurelist)\n",
    "y_pos = np.arange(len(featurelist))\n",
    "performance = count_of_zero_list\n",
    " \n",
    "fig_size = plt.rcParams[\"figure.figsize\"]\n",
    " \n",
    "# Set figure width to 12 and height to 9\n",
    "fig_size[0] = 11\n",
    "fig_size[1] = 3\n",
    "\n",
    "plt.bar(y_pos, performance, align='center', color='b', alpha=0.9)\n",
    "plt.xticks(y_pos, objects)\n",
    "\n",
    "plt.ylabel('Count of 0 values')\n",
    "plt.title('Count of 0 values per feature')\n",
    " \n",
    "plt.show()"
   ]
  },
  {
   "cell_type": "markdown",
   "metadata": {},
   "source": [
    "<b><font color=\"blue\"> Observation </font></b>\n",
    "\n",
    "Features like 'SkinThickness', 'Insulin' have a significant number of 0 values. "
   ]
  },
  {
   "cell_type": "markdown",
   "metadata": {},
   "source": [
    "#### 2b-2. Feature distribution viz using histogram and boxplots"
   ]
  },
  {
   "cell_type": "code",
   "execution_count": 347,
   "metadata": {},
   "outputs": [
    {
     "data": {
      "text/plain": [
       "Pregnancies                 0.901674\n",
       "Glucose                     0.173754\n",
       "BloodPressure              -1.843608\n",
       "SkinThickness               0.109372\n",
       "Insulin                     2.272251\n",
       "BMI                        -0.428982\n",
       "DiabetesPedigreeFunction    1.919911\n",
       "Age                         1.129597\n",
       "Outcome                     0.635017\n",
       "dtype: float64"
      ]
     },
     "execution_count": 347,
     "metadata": {},
     "output_type": "execute_result"
    },
    {
     "data": {
      "image/png": "[encoded data removed]",
      "text/plain": [
       "<matplotlib.figure.Figure at 0x1a4ce023c8>"
      ]
     },
     "metadata": {},
     "output_type": "display_data"
    }
   ],
   "source": [
    "data.hist(figsize=(10,8),color='b')\n",
    "pd.DataFrame.skew(data, axis=0)"
   ]
  },
  {
   "cell_type": "markdown",
   "metadata": {},
   "source": [
    "#### <font color=\"blue\">Observation</font>\n",
    "\n",
    "1. Most attributes like Age, DiabetesPedigree Function, Insuiln are highly skewed towords left.\n",
    "2. Significant number of missing or zero values for features like 'Insulin' and 'SkinThickness' have significant effect on their distribution. While building the model, these should be imputed properly. "
   ]
  },
  {
   "cell_type": "code",
   "execution_count": 348,
   "metadata": {},
   "outputs": [
    {
     "data": {
      "image/png": "[encoded data removed]",
      "text/plain": [
       "<matplotlib.figure.Figure at 0x1a334eb588>"
      ]
     },
     "metadata": {},
     "output_type": "display_data"
    }
   ],
   "source": [
    "# Comparing distributions, the centre, spread and overall range  w.r.t two binary outcome(0/1) \n",
    "fig, axes = plt.subplots(nrows=4, ncols=2, figsize=(16,16))\n",
    "\n",
    "data.boxplot(column='Pregnancies', by='Outcome',ax=axes[0,0])\n",
    "data.boxplot(column='Glucose', by='Outcome', ax=axes[0,1])\n",
    "data.boxplot(column='BloodPressure', by='Outcome',ax=axes[1,0])\n",
    "data.boxplot(column='SkinThickness', by='Outcome', ax=axes[1,1])\n",
    "data.boxplot(column='Insulin', by='Outcome',ax=axes[2,0])\n",
    "data.boxplot(column='BMI', by='Outcome', ax=axes[2,1])\n",
    "data.boxplot(column='DiabetesPedigreeFunction', by='Outcome',ax=axes[3,0])\n",
    "data.boxplot(column='Age', by='Outcome', ax=axes[3,1])\n",
    "\n",
    "fig.tight_layout()"
   ]
  },
  {
   "cell_type": "markdown",
   "metadata": {},
   "source": [
    "#### <font color=\"blue\">Observation</font>\n",
    "\n",
    "|Feature comparision with Outcome(0/1)| Comments(w.r.t median and outlier) |\n",
    "|:-------------------------------------|:-------- |\n",
    "|Pregnancies                 |Patients with higher number of pregnancies are prone to diabetes|\n",
    "|Glucose                     |High Glucose amount increases the chance of diabetes|\n",
    "|BloodPressure               |NA|\n",
    "|SkinThickness               |Higher value of 'Triceps skin fold thickness (mm)' gives an indication of diabetes|\n",
    "|Insulin                     |There are too many missing or zero values. We need to impute the missing values|\n",
    "|BMI                         |Higher BMI value increases the chance of diabetes|\n",
    "|DiabetesPedigreeFunction    |Patients with high DiabetesPedigreeFunction are prone to diabetes|\n",
    "|Age                         |Median age of diabetes patients is ~8 yrs more than same of non-diabetic patients|\n",
    "\n",
    "\n",
    "#### 2b-3. Features correlations"
   ]
  },
  {
   "cell_type": "code",
   "execution_count": 349,
   "metadata": {},
   "outputs": [
    {
     "data": {
      "text/plain": [
       "<matplotlib.text.Text at 0x1a3d1980f0>"
      ]
     },
     "execution_count": 349,
     "metadata": {},
     "output_type": "execute_result"
    },
    {
     "data": {
      "image/png": "[encoded data removed]",
      "text/plain": [
       "<matplotlib.figure.Figure at 0x1a35272550>"
      ]
     },
     "metadata": {},
     "output_type": "display_data"
    }
   ],
   "source": [
    "# calculate correlation\n",
    "corr = data.corr()\n",
    "\n",
    "# plot correlation matrix\n",
    "fig = plt.figure(figsize=(7, 5.5))\n",
    "mask = np.zeros_like(corr, dtype=np.bool) # create mask to cover the upper triangle\n",
    "mask[np.triu_indices_from(mask)] = True\n",
    "sns.heatmap(corr, annot=True, mask=mask, vmax=0.5,linewidths=0.1)\n",
    "fig.suptitle('Attribute Correlation Matrix', fontsize=14)"
   ]
  },
  {
   "cell_type": "markdown",
   "metadata": {},
   "source": [
    "#### <font color=\"blue\">Observation</font>\n",
    "\n",
    "Following pairs have a high correlation score. \n",
    "\n",
    "1. Age and Pregnancies (0.54)\n",
    "2. Outcome and Glucose  (0.47)\n",
    "3. Insulin and SkinThickness (0.44) \n",
    "4. BMI and SkinThickness (0.39)\n",
    "\n",
    "<b>Reference - [Plotting a diagonal correlation matrix](Plotting a diagonal correlation matrix)</b>"
   ]
  },
  {
   "cell_type": "markdown",
   "metadata": {},
   "source": [
    "## 3. Methodology\n",
    "\n",
    "- ### 3a. Data Preprocessing\n",
    "- ### 3b. Evaluation Metrics \n",
    "- ### 3c. Define Train/Test Dataset\n",
    "- ### 3d. Define Benchmark\n",
    "- ### 3e. Implementation \n",
    "    - #### 3e-1. Creating a Training and Predicting Pipeline\n",
    "    - #### 3e-2. Model comparision and selection\n",
    "    - #### 3e-3. Feature selection and model tuning\n",
    "- ### 3f. Comparision with Benchmark"
   ]
  },
  {
   "cell_type": "code",
   "execution_count": 350,
   "metadata": {
    "collapsed": true
   },
   "outputs": [],
   "source": [
    "# Split the data into features and target label\n",
    "outcome = data['Outcome']\n",
    "features = data.drop('Outcome', axis = 1)\n",
    "features_backup = data.drop('Outcome', axis = 1)"
   ]
  },
  {
   "cell_type": "markdown",
   "metadata": {},
   "source": [
    "### 3a. Data Preprocessing\n",
    "\n",
    "Objective - Before using this data as input for ML algo, it needs to be cleaned, formatted, and restructured. This preprocessing should help with the outcome(diabetes/non-diabetes) and predictive power of the model.\n",
    "\n",
    "* <b>3a-1. Data Cleaning ( Impute missing values )</b>\n",
    "* <b>3a-2. Transform numeric values in log scale ( minimize the effect of outliers )</b>\n",
    "* <b>3a-3. Scale numeric values ( 0 to 1 scale )</b>\n"
   ]
  },
  {
   "cell_type": "markdown",
   "metadata": {},
   "source": [
    "#### 3a-1. Data Cleaning\n",
    "\n",
    "Replace 0 values with the corresponding column mean. Since it might have some bad effect on the model, we might need to revert this operation for a subset of the columns while refining the model.\n",
    "\n",
    "Following 3 are the top 3 features w.r.t number of 0 values. \n",
    "- SkinThickness, \n",
    "- Insulin\n",
    "- Pregnencies\n",
    "- BMI\n",
    "\n",
    "Other than the 'pregnencies', almost none of them should contain 0 values. Here, 0 values are replaced with the correponding column mean. "
   ]
  },
  {
   "cell_type": "code",
   "execution_count": 351,
   "metadata": {},
   "outputs": [
    {
     "data": {
      "text/html": [
       "<div>\n",
       "<style>\n",
       "    .dataframe thead tr:only-child th {\n",
       "        text-align: right;\n",
       "    }\n",
       "\n",
       "    .dataframe thead th {\n",
       "        text-align: left;\n",
       "    }\n",
       "\n",
       "    .dataframe tbody tr th {\n",
       "        vertical-align: top;\n",
       "    }\n",
       "</style>\n",
       "<table border=\"1\" class=\"dataframe\">\n",
       "  <thead>\n",
       "    <tr style=\"text-align: right;\">\n",
       "      <th></th>\n",
       "      <th>Pregnancies</th>\n",
       "      <th>Glucose</th>\n",
       "      <th>BloodPressure</th>\n",
       "      <th>SkinThickness</th>\n",
       "      <th>Insulin</th>\n",
       "      <th>BMI</th>\n",
       "      <th>DiabetesPedigreeFunction</th>\n",
       "      <th>Age</th>\n",
       "    </tr>\n",
       "  </thead>\n",
       "  <tbody>\n",
       "    <tr>\n",
       "      <th>0</th>\n",
       "      <td>6</td>\n",
       "      <td>148</td>\n",
       "      <td>72</td>\n",
       "      <td>35</td>\n",
       "      <td>0</td>\n",
       "      <td>33.6</td>\n",
       "      <td>0.627</td>\n",
       "      <td>50</td>\n",
       "    </tr>\n",
       "    <tr>\n",
       "      <th>1</th>\n",
       "      <td>1</td>\n",
       "      <td>85</td>\n",
       "      <td>66</td>\n",
       "      <td>29</td>\n",
       "      <td>0</td>\n",
       "      <td>26.6</td>\n",
       "      <td>0.351</td>\n",
       "      <td>31</td>\n",
       "    </tr>\n",
       "    <tr>\n",
       "      <th>2</th>\n",
       "      <td>8</td>\n",
       "      <td>183</td>\n",
       "      <td>64</td>\n",
       "      <td>0</td>\n",
       "      <td>0</td>\n",
       "      <td>23.3</td>\n",
       "      <td>0.672</td>\n",
       "      <td>32</td>\n",
       "    </tr>\n",
       "    <tr>\n",
       "      <th>3</th>\n",
       "      <td>1</td>\n",
       "      <td>89</td>\n",
       "      <td>66</td>\n",
       "      <td>23</td>\n",
       "      <td>94</td>\n",
       "      <td>28.1</td>\n",
       "      <td>0.167</td>\n",
       "      <td>21</td>\n",
       "    </tr>\n",
       "    <tr>\n",
       "      <th>4</th>\n",
       "      <td>0</td>\n",
       "      <td>137</td>\n",
       "      <td>40</td>\n",
       "      <td>35</td>\n",
       "      <td>168</td>\n",
       "      <td>43.1</td>\n",
       "      <td>2.288</td>\n",
       "      <td>33</td>\n",
       "    </tr>\n",
       "  </tbody>\n",
       "</table>\n",
       "</div>"
      ],
      "text/plain": [
       "   Pregnancies  Glucose  BloodPressure  SkinThickness  Insulin   BMI  \\\n",
       "0            6      148             72             35        0  33.6   \n",
       "1            1       85             66             29        0  26.6   \n",
       "2            8      183             64              0        0  23.3   \n",
       "3            1       89             66             23       94  28.1   \n",
       "4            0      137             40             35      168  43.1   \n",
       "\n",
       "   DiabetesPedigreeFunction  Age  \n",
       "0                     0.627   50  \n",
       "1                     0.351   31  \n",
       "2                     0.672   32  \n",
       "3                     0.167   21  \n",
       "4                     2.288   33  "
      ]
     },
     "metadata": {},
     "output_type": "display_data"
    },
    {
     "data": {
      "text/html": [
       "<div>\n",
       "<style>\n",
       "    .dataframe thead tr:only-child th {\n",
       "        text-align: right;\n",
       "    }\n",
       "\n",
       "    .dataframe thead th {\n",
       "        text-align: left;\n",
       "    }\n",
       "\n",
       "    .dataframe tbody tr th {\n",
       "        vertical-align: top;\n",
       "    }\n",
       "</style>\n",
       "<table border=\"1\" class=\"dataframe\">\n",
       "  <thead>\n",
       "    <tr style=\"text-align: right;\">\n",
       "      <th></th>\n",
       "      <th>Pregnancies</th>\n",
       "      <th>Glucose</th>\n",
       "      <th>BloodPressure</th>\n",
       "      <th>SkinThickness</th>\n",
       "      <th>Insulin</th>\n",
       "      <th>BMI</th>\n",
       "      <th>DiabetesPedigreeFunction</th>\n",
       "      <th>Age</th>\n",
       "    </tr>\n",
       "  </thead>\n",
       "  <tbody>\n",
       "    <tr>\n",
       "      <th>0</th>\n",
       "      <td>6</td>\n",
       "      <td>148</td>\n",
       "      <td>72</td>\n",
       "      <td>35.0</td>\n",
       "      <td>NaN</td>\n",
       "      <td>33.6</td>\n",
       "      <td>0.627</td>\n",
       "      <td>50</td>\n",
       "    </tr>\n",
       "    <tr>\n",
       "      <th>1</th>\n",
       "      <td>1</td>\n",
       "      <td>85</td>\n",
       "      <td>66</td>\n",
       "      <td>29.0</td>\n",
       "      <td>NaN</td>\n",
       "      <td>26.6</td>\n",
       "      <td>0.351</td>\n",
       "      <td>31</td>\n",
       "    </tr>\n",
       "    <tr>\n",
       "      <th>2</th>\n",
       "      <td>8</td>\n",
       "      <td>183</td>\n",
       "      <td>64</td>\n",
       "      <td>NaN</td>\n",
       "      <td>NaN</td>\n",
       "      <td>23.3</td>\n",
       "      <td>0.672</td>\n",
       "      <td>32</td>\n",
       "    </tr>\n",
       "    <tr>\n",
       "      <th>3</th>\n",
       "      <td>1</td>\n",
       "      <td>89</td>\n",
       "      <td>66</td>\n",
       "      <td>23.0</td>\n",
       "      <td>94.0</td>\n",
       "      <td>28.1</td>\n",
       "      <td>0.167</td>\n",
       "      <td>21</td>\n",
       "    </tr>\n",
       "    <tr>\n",
       "      <th>4</th>\n",
       "      <td>0</td>\n",
       "      <td>137</td>\n",
       "      <td>40</td>\n",
       "      <td>35.0</td>\n",
       "      <td>168.0</td>\n",
       "      <td>43.1</td>\n",
       "      <td>2.288</td>\n",
       "      <td>33</td>\n",
       "    </tr>\n",
       "  </tbody>\n",
       "</table>\n",
       "</div>"
      ],
      "text/plain": [
       "   Pregnancies  Glucose  BloodPressure  SkinThickness  Insulin   BMI  \\\n",
       "0            6      148             72           35.0      NaN  33.6   \n",
       "1            1       85             66           29.0      NaN  26.6   \n",
       "2            8      183             64            NaN      NaN  23.3   \n",
       "3            1       89             66           23.0     94.0  28.1   \n",
       "4            0      137             40           35.0    168.0  43.1   \n",
       "\n",
       "   DiabetesPedigreeFunction  Age  \n",
       "0                     0.627   50  \n",
       "1                     0.351   31  \n",
       "2                     0.672   32  \n",
       "3                     0.167   21  \n",
       "4                     2.288   33  "
      ]
     },
     "metadata": {},
     "output_type": "display_data"
    },
    {
     "data": {
      "text/html": [
       "<div>\n",
       "<style>\n",
       "    .dataframe thead tr:only-child th {\n",
       "        text-align: right;\n",
       "    }\n",
       "\n",
       "    .dataframe thead th {\n",
       "        text-align: left;\n",
       "    }\n",
       "\n",
       "    .dataframe tbody tr th {\n",
       "        vertical-align: top;\n",
       "    }\n",
       "</style>\n",
       "<table border=\"1\" class=\"dataframe\">\n",
       "  <thead>\n",
       "    <tr style=\"text-align: right;\">\n",
       "      <th></th>\n",
       "      <th>Pregnancies</th>\n",
       "      <th>Glucose</th>\n",
       "      <th>BloodPressure</th>\n",
       "      <th>SkinThickness</th>\n",
       "      <th>Insulin</th>\n",
       "      <th>BMI</th>\n",
       "      <th>DiabetesPedigreeFunction</th>\n",
       "      <th>Age</th>\n",
       "    </tr>\n",
       "  </thead>\n",
       "  <tbody>\n",
       "    <tr>\n",
       "      <th>0</th>\n",
       "      <td>6</td>\n",
       "      <td>148</td>\n",
       "      <td>72</td>\n",
       "      <td>35.00000</td>\n",
       "      <td>155.548223</td>\n",
       "      <td>33.6</td>\n",
       "      <td>0.627</td>\n",
       "      <td>50</td>\n",
       "    </tr>\n",
       "    <tr>\n",
       "      <th>1</th>\n",
       "      <td>1</td>\n",
       "      <td>85</td>\n",
       "      <td>66</td>\n",
       "      <td>29.00000</td>\n",
       "      <td>155.548223</td>\n",
       "      <td>26.6</td>\n",
       "      <td>0.351</td>\n",
       "      <td>31</td>\n",
       "    </tr>\n",
       "    <tr>\n",
       "      <th>2</th>\n",
       "      <td>8</td>\n",
       "      <td>183</td>\n",
       "      <td>64</td>\n",
       "      <td>29.15342</td>\n",
       "      <td>155.548223</td>\n",
       "      <td>23.3</td>\n",
       "      <td>0.672</td>\n",
       "      <td>32</td>\n",
       "    </tr>\n",
       "    <tr>\n",
       "      <th>3</th>\n",
       "      <td>1</td>\n",
       "      <td>89</td>\n",
       "      <td>66</td>\n",
       "      <td>23.00000</td>\n",
       "      <td>94.000000</td>\n",
       "      <td>28.1</td>\n",
       "      <td>0.167</td>\n",
       "      <td>21</td>\n",
       "    </tr>\n",
       "    <tr>\n",
       "      <th>4</th>\n",
       "      <td>0</td>\n",
       "      <td>137</td>\n",
       "      <td>40</td>\n",
       "      <td>35.00000</td>\n",
       "      <td>168.000000</td>\n",
       "      <td>43.1</td>\n",
       "      <td>2.288</td>\n",
       "      <td>33</td>\n",
       "    </tr>\n",
       "  </tbody>\n",
       "</table>\n",
       "</div>"
      ],
      "text/plain": [
       "   Pregnancies  Glucose  BloodPressure  SkinThickness     Insulin   BMI  \\\n",
       "0            6      148             72       35.00000  155.548223  33.6   \n",
       "1            1       85             66       29.00000  155.548223  26.6   \n",
       "2            8      183             64       29.15342  155.548223  23.3   \n",
       "3            1       89             66       23.00000   94.000000  28.1   \n",
       "4            0      137             40       35.00000  168.000000  43.1   \n",
       "\n",
       "   DiabetesPedigreeFunction  Age  \n",
       "0                     0.627   50  \n",
       "1                     0.351   31  \n",
       "2                     0.672   32  \n",
       "3                     0.167   21  \n",
       "4                     2.288   33  "
      ]
     },
     "metadata": {},
     "output_type": "display_data"
    }
   ],
   "source": [
    "display(features.head(n=5))\n",
    "features[['SkinThickness', 'Insulin', 'BMI']] = features[['SkinThickness', 'Insulin', 'BMI']].replace(0, np.NaN)\n",
    "display(features.head(n=5))\n",
    "features.fillna(features.mean(), inplace=True)\n",
    "display(features.head(n=5))"
   ]
  },
  {
   "cell_type": "code",
   "execution_count": 352,
   "metadata": {},
   "outputs": [
    {
     "data": {
      "image/png": "[encoded data removed]",
      "text/plain": [
       "<matplotlib.figure.Figure at 0x1a3c4b9470>"
      ]
     },
     "metadata": {},
     "output_type": "display_data"
    }
   ],
   "source": [
    "fig, axes = plt.subplots(nrows=2, ncols=3, figsize=(16,4))\n",
    "fig.suptitle('Distribution before(in blue) and after(in green) data imputation', fontsize=18, y=1.08)\n",
    "\n",
    "for i, feature in enumerate(['Insulin', 'SkinThickness', 'BMI']):\n",
    "    data[feature].hist(color='b',ax=axes[0,i])\n",
    "    features[feature].hist(color='g',ax=axes[1,i])\n",
    "\n",
    "fig.tight_layout()"
   ]
  },
  {
   "cell_type": "markdown",
   "metadata": {},
   "source": [
    "#### 3a-2. Data transformation \n",
    "Fields like 'Age', 'Pregnancies', 'DiabetesPedigreeFunction' are highly skewed towords left. \n",
    "To minimize the effect of any very large and very small values, log transformations is performed. "
   ]
  },
  {
   "cell_type": "code",
   "execution_count": 353,
   "metadata": {},
   "outputs": [
    {
     "data": {
      "image/png": "[encoded data removed]",
      "text/plain": [
       "<matplotlib.figure.Figure at 0x1a2a526400>"
      ]
     },
     "metadata": {},
     "output_type": "display_data"
    }
   ],
   "source": [
    "# TODO: Scale the data using the natural logarithm\n",
    "features_log_transformed = features.apply(lambda x: np.log(x+1))\n",
    "\n",
    "fig, axes = plt.subplots(nrows=8, ncols=2, figsize=(16,16))\n",
    "\n",
    "for i, feature in enumerate(features):\n",
    "    features[[feature]].hist(color='b',ax=axes[i,0])\n",
    "    features_log_transformed[[feature]].hist(color='g',ax=axes[i,1])\n",
    "\n",
    "fig.suptitle('Distribution before(in blue) and after(in green) log transformation', fontsize=18, y=1.08)\n",
    "\n",
    "fig.tight_layout()\n",
    "\n",
    "features_log_transformed.to_csv(\"features_log_transformed.csv\")"
   ]
  },
  {
   "cell_type": "markdown",
   "metadata": {},
   "source": [
    "#### <font color=\"blue\">Observation</font>\n",
    "\n",
    "The distributions of 'Glucose' and 'BloodPressure' suggest that there a few outliers that contain 0 values. \n",
    "Since the dataset size is relatively small, it might not be a good idea to remove these outliers. "
   ]
  },
  {
   "cell_type": "markdown",
   "metadata": {},
   "source": [
    "#### 3a-3. Scale numeric values ( 0 to 1 scale ) \n",
    "\n",
    "Data normalization ensures that each feature is treated equally when applying supervised learners. "
   ]
  },
  {
   "cell_type": "code",
   "execution_count": 354,
   "metadata": {},
   "outputs": [
    {
     "data": {
      "text/html": [
       "<div>\n",
       "<style>\n",
       "    .dataframe thead tr:only-child th {\n",
       "        text-align: right;\n",
       "    }\n",
       "\n",
       "    .dataframe thead th {\n",
       "        text-align: left;\n",
       "    }\n",
       "\n",
       "    .dataframe tbody tr th {\n",
       "        vertical-align: top;\n",
       "    }\n",
       "</style>\n",
       "<table border=\"1\" class=\"dataframe\">\n",
       "  <thead>\n",
       "    <tr style=\"text-align: right;\">\n",
       "      <th></th>\n",
       "      <th>Pregnancies</th>\n",
       "      <th>Glucose</th>\n",
       "      <th>BloodPressure</th>\n",
       "      <th>SkinThickness</th>\n",
       "      <th>Insulin</th>\n",
       "      <th>BMI</th>\n",
       "      <th>DiabetesPedigreeFunction</th>\n",
       "      <th>Age</th>\n",
       "    </tr>\n",
       "  </thead>\n",
       "  <tbody>\n",
       "    <tr>\n",
       "      <th>0</th>\n",
       "      <td>0.673239</td>\n",
       "      <td>0.944441</td>\n",
       "      <td>0.891583</td>\n",
       "      <td>0.595502</td>\n",
       "      <td>0.581437</td>\n",
       "      <td>0.465176</td>\n",
       "      <td>0.356534</td>\n",
       "      <td>0.639050</td>\n",
       "    </tr>\n",
       "    <tr>\n",
       "      <th>1</th>\n",
       "      <td>0.239812</td>\n",
       "      <td>0.840710</td>\n",
       "      <td>0.873760</td>\n",
       "      <td>0.523317</td>\n",
       "      <td>0.581437</td>\n",
       "      <td>0.286640</td>\n",
       "      <td>0.195523</td>\n",
       "      <td>0.284791</td>\n",
       "    </tr>\n",
       "    <tr>\n",
       "      <th>2</th>\n",
       "      <td>0.760188</td>\n",
       "      <td>0.984263</td>\n",
       "      <td>0.867462</td>\n",
       "      <td>0.525336</td>\n",
       "      <td>0.581437</td>\n",
       "      <td>0.186061</td>\n",
       "      <td>0.380165</td>\n",
       "      <td>0.308180</td>\n",
       "    </tr>\n",
       "    <tr>\n",
       "      <th>3</th>\n",
       "      <td>0.239812</td>\n",
       "      <td>0.849290</td>\n",
       "      <td>0.873760</td>\n",
       "      <td>0.434968</td>\n",
       "      <td>0.457607</td>\n",
       "      <td>0.328441</td>\n",
       "      <td>0.068711</td>\n",
       "      <td>0.000000</td>\n",
       "    </tr>\n",
       "    <tr>\n",
       "      <th>4</th>\n",
       "      <td>0.000000</td>\n",
       "      <td>0.929966</td>\n",
       "      <td>0.771702</td>\n",
       "      <td>0.595502</td>\n",
       "      <td>0.600411</td>\n",
       "      <td>0.656797</td>\n",
       "      <td>0.965907</td>\n",
       "      <td>0.330870</td>\n",
       "    </tr>\n",
       "  </tbody>\n",
       "</table>\n",
       "</div>"
      ],
      "text/plain": [
       "   Pregnancies   Glucose  BloodPressure  SkinThickness   Insulin       BMI  \\\n",
       "0     0.673239  0.944441       0.891583       0.595502  0.581437  0.465176   \n",
       "1     0.239812  0.840710       0.873760       0.523317  0.581437  0.286640   \n",
       "2     0.760188  0.984263       0.867462       0.525336  0.581437  0.186061   \n",
       "3     0.239812  0.849290       0.873760       0.434968  0.457607  0.328441   \n",
       "4     0.000000  0.929966       0.771702       0.595502  0.600411  0.656797   \n",
       "\n",
       "   DiabetesPedigreeFunction       Age  \n",
       "0                  0.356534  0.639050  \n",
       "1                  0.195523  0.284791  \n",
       "2                  0.380165  0.308180  \n",
       "3                  0.068711  0.000000  \n",
       "4                  0.965907  0.330870  "
      ]
     },
     "metadata": {},
     "output_type": "display_data"
    }
   ],
   "source": [
    "# Import sklearn.preprocessing.StandardScaler\n",
    "from sklearn.preprocessing import MinMaxScaler\n",
    "\n",
    "# Initialize a scaler, then apply it to the features\n",
    "scaler = MinMaxScaler() # default=(0, 1)\n",
    "numerical = ['Pregnancies', 'Glucose', 'BloodPressure', 'SkinThickness', 'Insulin', 'BMI', 'DiabetesPedigreeFunction', 'Age']\n",
    "\n",
    "features_log_minmax_transformed = pd.DataFrame(data = features_log_transformed)\n",
    "features_log_minmax_transformed[numerical] = scaler.fit_transform(features_log_transformed[numerical])\n",
    "\n",
    "# Show an example of a record with scaling applied\n",
    "display(features_log_minmax_transformed.head(n = 5))"
   ]
  },
  {
   "cell_type": "code",
   "execution_count": 355,
   "metadata": {},
   "outputs": [
    {
     "data": {
      "image/png": "[encoded data removed]",
      "text/plain": [
       "<matplotlib.figure.Figure at 0x1a40c5bef0>"
      ]
     },
     "metadata": {},
     "output_type": "display_data"
    }
   ],
   "source": [
    "fig, axes = plt.subplots(nrows=2, ncols=3, figsize=(16,4))\n",
    "fig.suptitle('Distribution before(in blue) and after(in green) data imputation', fontsize=18, y=1.08)\n",
    "\n",
    "for i, feature in enumerate(['Insulin', 'SkinThickness', 'BMI']):\n",
    "    data[feature].hist(color='b',ax=axes[0,i])\n",
    "    features[feature].hist(color='g',ax=axes[1,i])\n",
    "\n",
    "fig.tight_layout()"
   ]
  },
  {
   "cell_type": "code",
   "execution_count": 356,
   "metadata": {},
   "outputs": [
    {
     "data": {
      "text/plain": [
       "<matplotlib.axes._subplots.AxesSubplot at 0x1a45949160>"
      ]
     },
     "execution_count": 356,
     "metadata": {},
     "output_type": "execute_result"
    },
    {
     "data": {
      "image/png": "[encoded data removed]",
      "text/plain": [
       "<matplotlib.figure.Figure at 0x1a452466d8>"
      ]
     },
     "metadata": {},
     "output_type": "display_data"
    }
   ],
   "source": [
    "fig, axes = plt.subplots(nrows=1, ncols=2, figsize=(16,6))\n",
    "fig.suptitle('Correlations comparisions ( before and after data-processing)', fontsize=18, y=1.08)\n",
    "\n",
    "mask = np.zeros_like(features_backup.corr(), dtype=np.bool) # create mask to cover the upper triangle\n",
    "mask[np.triu_indices_from(mask)] = True\n",
    "sns.heatmap(features_backup.corr(), mask=mask, annot=True,ax=axes[0])\n",
    "\n",
    "mask = np.zeros_like(features_log_minmax_transformed.corr(), dtype=np.bool) # create mask to cover the upper triangle\n",
    "mask[np.triu_indices_from(mask)] = True\n",
    "sns.heatmap(features_log_minmax_transformed.corr(), mask=mask, annot=True,ax=axes[1])"
   ]
  },
  {
   "cell_type": "markdown",
   "metadata": {},
   "source": [
    "#### <font color=\"blue\">Observation</font>"
   ]
  },
  {
   "cell_type": "markdown",
   "metadata": {},
   "source": [
    "### 3b. Evaluation Metrics \n",
    "\n",
    "While evaluating the performance of the benchmark models and best solution model, I will consider the 'model accuracy' using train/test split or K-fold cross-validation. The input dataset is bit unbalanced(~35%:65%) w.r.t the prediction variable 'outcome', so I will leverage the 'recall' factor and use 'confusion matrix' to measure different types of prediction. Since this model will be used to disease diagnosis, we will try to minimize the 'false negative' type error (i.e A result that appears negative when it should not).\n",
    "\n",
    "In this case, we would use F2 Score since it favors 'recall' over 'precision'.\n",
    "\n",
    "Related formula\n",
    "\n",
    "Fβ score = (1+β2) * (precision⋅recall / (β2⋅precision)+recall)\n",
    "\n",
    "In this cases, β = 2.\n",
    "Precision = [True Positives/(True Positives + False Positives)]\n",
    "\n",
    "Recall = [True Positives/(True Positives + False Negatives)]"
   ]
  },
  {
   "cell_type": "markdown",
   "metadata": {},
   "source": [
    "### 3c. Define train/test dataset\n",
    "Data is splitted in 8:2 proportion to created training and testing set"
   ]
  },
  {
   "cell_type": "code",
   "execution_count": 357,
   "metadata": {},
   "outputs": [
    {
     "name": "stdout",
     "output_type": "stream",
     "text": [
      "Training set has 614 samples.\n",
      "Testing set has 154 samples.\n"
     ]
    }
   ],
   "source": [
    "from sklearn.model_selection import train_test_split\n",
    "\n",
    "X_train, X_test, y_train, y_test = train_test_split(features_log_minmax_transformed, \n",
    "                                                    outcome, \n",
    "                                                    test_size = 0.2, \n",
    "                                                    random_state = 0)\n",
    "\n",
    "print (\"Training set has {} samples.\".format(X_train.shape[0]))\n",
    "print (\"Testing set has {} samples.\".format(X_test.shape[0]))"
   ]
  },
  {
   "cell_type": "markdown",
   "metadata": {},
   "source": [
    "### 3d. Benchmark \n",
    "\n",
    "#### <font color='b'>Benchmark-1 : Naive Model</font>\n",
    "Since 500 out of 768 individuals don't have diabetes, so we would consider this an unbalanced dataset. \n",
    "- <b> A naive benchmark model for this problem would be to predict that none of the patients have diabetes. </b>"
   ]
  },
  {
   "cell_type": "code",
   "execution_count": 358,
   "metadata": {},
   "outputs": [
    {
     "name": "stdout",
     "output_type": "stream",
     "text": [
      "Number of diabetic vs non-diabetic patients in the test dataset\n",
      "0    107\n",
      "1     47\n",
      "Name: Outcome, dtype: int64\n",
      "\n",
      "Naive Model KPI\n",
      "-----------------\n",
      "-> naive_recall_score : 1.0\n",
      "-> naive_accuracy_score : 0.31\n",
      "-> naive_f2_score : 0.69\n",
      "<class 'numpy.ndarray'>\n",
      "\n",
      "TN = 0, FP = 107, FN = 0, TP = 47\n"
     ]
    },
    {
     "data": {
      "image/png": "[encoded data removed]",
      "text/plain": [
       "<matplotlib.figure.Figure at 0x1a3c9f0860>"
      ]
     },
     "metadata": {},
     "output_type": "display_data"
    }
   ],
   "source": [
    "from sklearn.metrics import recall_score, accuracy_score,  fbeta_score\n",
    "\n",
    "# Count of instances per Target/Label variable Viz\n",
    "# sns.countplot(y_test.values,label=\"Count\")\n",
    "print(\"Number of diabetic vs non-diabetic patients in the test dataset\")\n",
    "print(y_test.value_counts())\n",
    "predictions_test = [1] * 154\n",
    "\n",
    "results = {}\n",
    "print(\"\\nNaive Model KPI\\n-----------------\")\n",
    "results['naive_accuracy_score'] = accuracy_score(y_test.values, predictions_test)\n",
    "results['naive_recall_score'] = recall_score(y_test.values, predictions_test)    \n",
    "results['naive_f2_score'] = fbeta_score(y_test.values, predictions_test, beta=2)\n",
    "\n",
    "for key, value in results.items():\n",
    "    print(\"-> {} : {}\".format(key, round(value,2)))\n",
    "    \n",
    "from sklearn.metrics import confusion_matrix\n",
    "print (type(y_test.values))\n",
    "cm = confusion_matrix(y_test.values, predictions_test)\n",
    "tn, fp, fn, tp =  cm.ravel()\n",
    "print (\"\\nTN = {}, FP = {}, FN = {}, TP = {}\".format(tn, fp, fn, tp))\n",
    "\n",
    "Recall = [tp/(tp + fn)]\n",
    "\n",
    "# Confusion Matrix\n",
    "from mlxtend.plotting import plot_confusion_matrix\n",
    "import matplotlib.pyplot as plt\n",
    "import numpy as np\n",
    "\n",
    "fig, ax = plot_confusion_matrix(conf_mat=cm, figsize=(6,6), cmap=\"Greens\")\n",
    "plt.show()"
   ]
  },
  {
   "cell_type": "markdown",
   "metadata": {},
   "source": [
    "#### <font color='b'>Benchmark-2 : Naive Model</font>\n",
    "According to several legitimate sources, Type-2 diabetes is correlated with obesity and/or BMI. Following article suggests that Overweight was defined as having a body mass index between 25 and 29.9. http://www.diabetesincontrol.com/body-mass-index-and-type-2-diabetes-risk/\n",
    "\n",
    "- <b> I'll consider the average(27.5) of the above BMI range(25 to 29.9) as a threshold of this domain knowledge-based model. If a patient's BMI is above 27.5 then this model will diagnosis 'diabetes'. </b>"
   ]
  },
  {
   "cell_type": "code",
   "execution_count": 359,
   "metadata": {},
   "outputs": [
    {
     "name": "stdout",
     "output_type": "stream",
     "text": [
      "0    107\n",
      "1     47\n",
      "Name: Outcome, dtype: int64\n",
      "\n",
      " Naive Model KPI\n",
      "-----------------\n",
      "-> naive_recall_score : 1.0\n",
      "-> naive_accuracy_score : 0.31\n",
      "-> naive_f2_score : 0.69\n",
      "<class 'numpy.ndarray'>\n",
      "\n",
      "TN = 0, FP = 107, FN = 0, TP = 47\n"
     ]
    },
    {
     "data": {
      "image/png": "[encoded data removed]",
      "text/plain": [
       "<matplotlib.figure.Figure at 0x1a3cf2f630>"
      ]
     },
     "metadata": {},
     "output_type": "display_data"
    }
   ],
   "source": [
    "from sklearn.metrics import recall_score, accuracy_score,  fbeta_score\n",
    "\n",
    "# Count of instances per Target/Label variable Viz\n",
    "# sns.countplot(y_test.values,label=\"Count\")\n",
    "print(y_test.value_counts())\n",
    "predictions_test = [1] * 154\n",
    "\n",
    "results = {}\n",
    "print(\"\\n Naive Model KPI\\n-----------------\")\n",
    "results['naive_accuracy_score'] = accuracy_score(y_test.values, predictions_test)\n",
    "results['naive_recall_score'] = recall_score(y_test.values, predictions_test)    \n",
    "results['naive_f2_score'] = fbeta_score(y_test.values, predictions_test, beta=2)\n",
    "\n",
    "for key, value in results.items():\n",
    "    print(\"-> {} : {}\".format(key, round(value,2)))\n",
    "    \n",
    "from sklearn.metrics import confusion_matrix\n",
    "print (type(y_test.values))\n",
    "cm = confusion_matrix(y_test.values, predictions_test)\n",
    "tn, fp, fn, tp =  cm.ravel()\n",
    "print (\"\\nTN = {}, FP = {}, FN = {}, TP = {}\".format(tn, fp, fn, tp))\n",
    "\n",
    "Recall = [tp/(tp + fn)]\n",
    "\n",
    "# Confusion Matrix\n",
    "from mlxtend.plotting import plot_confusion_matrix\n",
    "import matplotlib.pyplot as plt\n",
    "import numpy as np\n",
    "\n",
    "fig, ax = plot_confusion_matrix(conf_mat=cm, figsize=(6,6), cmap=\"Greens\")\n",
    "plt.show()"
   ]
  },
  {
   "cell_type": "markdown",
   "metadata": {},
   "source": [
    "#### <font color='b'>Benchmark-2 : Domain Knowledge-based Model</font>\n",
    "\n",
    "According to the Wikipedia \"They have the highest prevalence of type 2 diabetes in the world, much more than is observed in other U.S. populations\".\n",
    "\n",
    "Type 2 diabetes (formerly called non-insulin-dependent, or adult-onset) results from the body’s ineffective use of insulin. Type 2 diabetes comprises the majority of people with diabetes around the world, and is largely the result of excess body weight and physical inactivity.\n",
    "\n",
    "According to several legitimate sources, Type-2 diabetes is correlated with obesity and/or BMI. Following article suggests that Overweight was defined as having a body mass index between 25 and 29.9. http://www.diabetesincontrol.com/body-mass-index-and-type-2-diabetes-risk/\n",
    "\n",
    "We'll consider the average(27.5) of the above BMI range(25 to 29.9) as a threshold of this domain knowledge-based model. If a patient's BMI is above 27.5 then this model will diagnosis 'diabetes'."
   ]
  },
  {
   "cell_type": "code",
   "execution_count": 380,
   "metadata": {},
   "outputs": [
    {
     "name": "stdout",
     "output_type": "stream",
     "text": [
      "[ 0.          0.          0.          2.07944154  2.7080502   2.95491028\n",
      "  0.07510747  3.09104245]\n",
      "5 2.95491027903 4.22097721316\n",
      "3.33220451018\n",
      "0.298004964013\n",
      "[1, 1, 1, 0, 0, 0, 1, 1, 1, 1, 1, 1, 0, 1, 1, 1, 1, 0, 1, 1, 1, 1, 1, 1, 0, 1, 0, 1, 0, 0, 0, 1, 1, 1, 0, 1, 1, 0, 1, 1, 1, 1, 0, 1, 1, 1, 0, 0, 1, 1, 0, 1, 1, 1, 1, 0, 0, 1, 1, 1, 1, 1, 0, 1, 1, 0, 1, 0, 1, 1, 1, 0, 1, 1, 1, 1, 1, 1, 1, 1, 1, 1, 1, 0, 1, 1, 0, 1, 1, 1, 1, 1, 1, 0, 1, 1, 1, 1, 1, 1, 1, 0, 1, 0, 1, 1, 1, 1, 0, 0, 1, 1, 1, 1, 1, 1, 0, 0, 1, 1, 1, 1, 1, 0, 0, 0, 1, 1, 0, 0, 1, 1, 1, 1, 1, 1, 1, 1, 1, 0, 1, 1, 0, 1, 1, 0, 0, 0, 1, 1, 1, 1, 0, 1]\n",
      "\n",
      "Naive Model KPI\n",
      "-----------------\n",
      "-> naive_recall_score : 0.89\n",
      "-> naive_accuracy_score : 0.51\n",
      "-> naive_f2_score : 0.7\n",
      "<class 'numpy.ndarray'>\n",
      "\n",
      "TN = 37, FP = 70, FN = 5, TP = 42\n"
     ]
    },
    {
     "data": {
      "image/png": "[encoded data removed]",
      "text/plain": [
       "<matplotlib.figure.Figure at 0x1a3bd8d978>"
      ]
     },
     "metadata": {},
     "output_type": "display_data"
    }
   ],
   "source": [
    "#y = features.apply(lambda x: np.log(x+1))\n",
    "#X = features['BMI'].apply(lambda x: np.log(x+1))\n",
    "\n",
    "#print(features_log_minmax_transformed['BMI'])\n",
    "#inversed = scaler.inverse_transform(normalized)\n",
    "#y = scaler.inverse_transform(features_log_minmax_transformed['BMI'])\n",
    "#print('Min: %f, Max: %f' % (scaler.data_min_, scaler.data_max_))\n",
    "print(scaler.data_min_)\n",
    "\n",
    "gmi_log_min = 0\n",
    "gmi_log_max = 0\n",
    "\n",
    "for ind, feature in enumerate(features_log_minmax_transformed):\n",
    "    if feature=='BMI':\n",
    "        print(ind, scaler.data_min_[ind], scaler.data_max_[ind])\n",
    "        gmi_log_min = scaler.data_min_[ind] \n",
    "        gmi_log_max = scaler.data_max_[ind]\n",
    "        \n",
    "log_of_27_5 = np.log(28)\n",
    "print(log_of_27_5)\n",
    "\n",
    "scaled_value_log_of_27_5 = (log_of_27_5 - gmi_log_min)/(gmi_log_max - gmi_log_min)\n",
    "print(scaled_value_log_of_27_5)\n",
    "\n",
    "#print(X_test['BMI'] > scaled_value_log_of_27_5)\n",
    "#Y_pred = map(lambda x : 1 if x>scaled_value_log_of_27_5 else 0, X_test['BMI'])\n",
    "\n",
    "predictions_test = [1 if x>scaled_value_log_of_27_5 else 0  for x in X_test['BMI']]\n",
    "print(predictions_test)\n",
    "\n",
    "# evaluation\n",
    "results = {}\n",
    "print(\"\\nNaive Model KPI\\n-----------------\")\n",
    "results['naive_accuracy_score'] = accuracy_score(y_test.values, predictions_test)\n",
    "results['naive_recall_score'] = recall_score(y_test.values, predictions_test)    \n",
    "results['naive_f2_score'] = fbeta_score(y_test.values, predictions_test, beta=2)\n",
    "\n",
    "for key, value in results.items():\n",
    "    print(\"-> {} : {}\".format(key, round(value,2)))\n",
    "    \n",
    "from sklearn.metrics import confusion_matrix\n",
    "print (type(y_test.values))\n",
    "cm = confusion_matrix(y_test.values, predictions_test)\n",
    "tn, fp, fn, tp =  cm.ravel()\n",
    "print (\"\\nTN = {}, FP = {}, FN = {}, TP = {}\".format(tn, fp, fn, tp))\n",
    "\n",
    "Recall = [tp/(tp + fn)]\n",
    "\n",
    "# Confusion Matrix\n",
    "from mlxtend.plotting import plot_confusion_matrix\n",
    "import matplotlib.pyplot as plt\n",
    "import numpy as np\n",
    "\n",
    "fig, ax = plot_confusion_matrix(conf_mat=cm, figsize=(6,6), cmap=\"Greens\")\n",
    "plt.show()"
   ]
  },
  {
   "cell_type": "markdown",
   "metadata": {},
   "source": [
    "### 3e. Implementation "
   ]
  },
  {
   "cell_type": "markdown",
   "metadata": {},
   "source": [
    "The following are some of the supervised learning models that are currently available in scikit-learn that you may choose from:\n",
    "\n",
    "- Gaussian Naive Bayes (GaussianNB)\n",
    "- Decision Trees\n",
    "- Ensemble Methods (Bagging, AdaBoost, Random Forest, Gradient Boosting)\n",
    "- K-Nearest Neighbors (KNeighbors)\n",
    "- Stochastic Gradient Descent Classifier (SGDC)\n",
    "- Support Vector Machines (SVM)\n",
    "- Logistic Regression"
   ]
  },
  {
   "cell_type": "code",
   "execution_count": 490,
   "metadata": {
    "collapsed": true
   },
   "outputs": [],
   "source": [
    "# \n",
    "from sklearn.naive_bayes import GaussianNB\n",
    "from sklearn.tree import DecisionTreeClassifier\n",
    "from sklearn.neighbors import KNeighborsClassifier\n",
    "from sklearn.svm import SVC\n",
    "from sklearn.linear_model import LogisticRegression\n",
    "\n",
    "#Ensemble Classifiers\n",
    "from sklearn.ensemble import AdaBoostClassifier\n",
    "from sklearn.ensemble import RandomForestClassifier\n",
    "from sklearn.ensemble import GradientBoostingClassifier\n",
    "\n",
    "#DL\n",
    "from sklearn.neural_network import MLPClassifier\n",
    "\n",
    "classifiers = []\n",
    "\n",
    "classifiers.append(('GNB', GaussianNB()))\n",
    "classifiers.append(('DT', DecisionTreeClassifier(random_state=19)))\n",
    "classifiers.append(('KNN', KNeighborsClassifier(5)))\n",
    "classifiers.append(('SVC', SVC(random_state=19)))\n",
    "classifiers.append(('LR', LogisticRegression(random_state=19)))\n",
    "classifiers.append(('RF', RandomForestClassifier(random_state=19)))\n",
    "classifiers.append(('GB', GradientBoostingClassifier(random_state=19)))\n",
    "classifiers.append(('ADB', AdaBoostClassifier(random_state=19)))\n",
    "classifiers.append(('MLP', MLPClassifier(random_state=19)))"
   ]
  },
  {
   "cell_type": "markdown",
   "metadata": {},
   "source": [
    "#### 3e-1. Creating a Training and Predicting Pipeline"
   ]
  },
  {
   "cell_type": "code",
   "execution_count": null,
   "metadata": {
    "collapsed": true
   },
   "outputs": [],
   "source": [
    "def train_predict_pipeline(classifier, sample_size, X_train, y_train, X_test, y_test): \n",
    "    '''\n",
    "    inputs:\n",
    "       - classifier: the learning algorithm to be trained and predicted on\n",
    "       - sample_size: the size of samples (number) to be drawn from training set\n",
    "       - X_train: features training set\n",
    "       - y_train: income training set\n",
    "       - X_test: features testing set\n",
    "       - y_test: income testing set\n",
    "    '''\n",
    "\n",
    "    results = {}\n",
    "    \n",
    "    print ('sample_size - ', sample_size)\n",
    "    \n",
    "    # Fit the classifier to the training data using slicing with 'sample_size' using .fit(training_features[:], training_labels[:])\n",
    "    start = time() # Get start time\n",
    "    classifier.fit(X_train[:sample_size], y_train[:sample_size])\n",
    "    end = time() # Get end time\n",
    "    \n",
    "    # Calculate the training time\n",
    "    results['train_time'] = end - start\n",
    "        \n",
    "    # Get the predictions on the test set(X_test),\n",
    "    #       then get predictions on the first 300 training samples(X_train) using .predict()\n",
    "    start = time() # Get start time\n",
    "    predictions_test = classifier.predict(X_test)\n",
    "    predictions_train = classifier.predict(X_train[0:300])\n",
    "    end = time() # Get end time\n",
    "    \n",
    "    # Calculate the total prediction time\n",
    "    results['pred_time'] = end-start\n",
    "            \n",
    "    # Compute accuracy on the first 300 training samples which is y_train[:300]\n",
    "    results['acc_train'] = accuracy_score(y_train[:300], predictions_train)\n",
    "        \n",
    "    # Compute accuracy on test set using accuracy_score()\n",
    "    results['acc_test'] = accuracy_score(y_test, predictions_test)\n",
    "    \n",
    "    # Compute F-score on the the first 300 training samples using fbeta_score()\n",
    "    results['f_train'] = fbeta_score(y_train[:300], predictions_train, beta=0.5)\n",
    "        \n",
    "    # Compute F-score on the test set which is y_test\n",
    "    results['f_test'] = fbeta_score(y_test, predictions_test, beta=0.5)\n",
    "       \n",
    "    # Success\n",
    "    print (\"{} trained on {} samples.\".format(classifier.__class__.__name__, sample_size))\n",
    "        \n",
    "    # Return the results\n",
    "    return results"
   ]
  },
  {
   "cell_type": "code",
   "execution_count": 495,
   "metadata": {},
   "outputs": [
    {
     "name": "stdout",
     "output_type": "stream",
     "text": [
      "GNB feature importance is not applicable\n",
      "DT [ 0.07660321  0.27922096  0.0895623   0.06530639  0.06026256  0.25323812\n",
      "  0.070255    0.10555148]\n",
      "KNN feature importance is not applicable\n",
      "SVC feature importance is not applicable\n",
      "LR feature importance is not applicable\n",
      "RF [ 0.06619894  0.27057402  0.0803229   0.0768153   0.07393318  0.15468534\n",
      "  0.11712331  0.160347  ]\n",
      "GB [ 0.09082139  0.19466275  0.06881495  0.04664946  0.08777744  0.1775685\n",
      "  0.19194241  0.1417631 ]\n",
      "ADB [ 0.06  0.22  0.1   0.08  0.06  0.22  0.16  0.1 ]\n",
      "MLP feature importance is not applicable\n",
      "Name 11\n",
      "decision_types 11\n"
     ]
    },
    {
     "data": {
      "text/html": [
       "<div>\n",
       "<style>\n",
       "    .dataframe thead tr:only-child th {\n",
       "        text-align: right;\n",
       "    }\n",
       "\n",
       "    .dataframe thead th {\n",
       "        text-align: left;\n",
       "    }\n",
       "\n",
       "    .dataframe tbody tr th {\n",
       "        vertical-align: top;\n",
       "    }\n",
       "</style>\n",
       "<table border=\"1\" class=\"dataframe\">\n",
       "  <thead>\n",
       "    <tr style=\"text-align: right;\">\n",
       "      <th></th>\n",
       "      <th>Name</th>\n",
       "      <th>F2-Score</th>\n",
       "      <th>Recall</th>\n",
       "      <th>Accuracy Score</th>\n",
       "      <th>DecisionTypes</th>\n",
       "    </tr>\n",
       "  </thead>\n",
       "  <tbody>\n",
       "    <tr>\n",
       "      <th>10</th>\n",
       "      <td>Benchmark-2</td>\n",
       "      <td>0.70</td>\n",
       "      <td>0.890000</td>\n",
       "      <td>0.500000</td>\n",
       "      <td>TN=37, FP=70, FN=5, TP=42</td>\n",
       "    </tr>\n",
       "    <tr>\n",
       "      <th>9</th>\n",
       "      <td>Benchmark-1</td>\n",
       "      <td>0.69</td>\n",
       "      <td>1.000000</td>\n",
       "      <td>0.310000</td>\n",
       "      <td>TN=0, FP=107, FN=0, TP=47</td>\n",
       "    </tr>\n",
       "    <tr>\n",
       "      <th>6</th>\n",
       "      <td>GB</td>\n",
       "      <td>0.69</td>\n",
       "      <td>0.680851</td>\n",
       "      <td>0.824675</td>\n",
       "      <td>TN=95, FP=12, FN=15, TP=32</td>\n",
       "    </tr>\n",
       "    <tr>\n",
       "      <th>5</th>\n",
       "      <td>RF</td>\n",
       "      <td>0.68</td>\n",
       "      <td>0.680851</td>\n",
       "      <td>0.811688</td>\n",
       "      <td>TN=93, FP=14, FN=15, TP=32</td>\n",
       "    </tr>\n",
       "    <tr>\n",
       "      <th>7</th>\n",
       "      <td>ADB</td>\n",
       "      <td>0.68</td>\n",
       "      <td>0.680851</td>\n",
       "      <td>0.792208</td>\n",
       "      <td>TN=90, FP=17, FN=15, TP=32</td>\n",
       "    </tr>\n",
       "    <tr>\n",
       "      <th>0</th>\n",
       "      <td>GNB</td>\n",
       "      <td>0.64</td>\n",
       "      <td>0.638298</td>\n",
       "      <td>0.779221</td>\n",
       "      <td>TN=90, FP=17, FN=17, TP=30</td>\n",
       "    </tr>\n",
       "    <tr>\n",
       "      <th>1</th>\n",
       "      <td>DT</td>\n",
       "      <td>0.61</td>\n",
       "      <td>0.617021</td>\n",
       "      <td>0.746753</td>\n",
       "      <td>TN=86, FP=21, FN=18, TP=29</td>\n",
       "    </tr>\n",
       "    <tr>\n",
       "      <th>2</th>\n",
       "      <td>KNN</td>\n",
       "      <td>0.58</td>\n",
       "      <td>0.574468</td>\n",
       "      <td>0.759740</td>\n",
       "      <td>TN=90, FP=17, FN=20, TP=27</td>\n",
       "    </tr>\n",
       "    <tr>\n",
       "      <th>4</th>\n",
       "      <td>LR</td>\n",
       "      <td>0.40</td>\n",
       "      <td>0.361702</td>\n",
       "      <td>0.766234</td>\n",
       "      <td>TN=101, FP=6, FN=30, TP=17</td>\n",
       "    </tr>\n",
       "    <tr>\n",
       "      <th>3</th>\n",
       "      <td>SVC</td>\n",
       "      <td>0.27</td>\n",
       "      <td>0.234043</td>\n",
       "      <td>0.740260</td>\n",
       "      <td>TN=103, FP=4, FN=36, TP=11</td>\n",
       "    </tr>\n",
       "    <tr>\n",
       "      <th>8</th>\n",
       "      <td>MLP</td>\n",
       "      <td>0.27</td>\n",
       "      <td>0.234043</td>\n",
       "      <td>0.727273</td>\n",
       "      <td>TN=101, FP=6, FN=36, TP=11</td>\n",
       "    </tr>\n",
       "  </tbody>\n",
       "</table>\n",
       "</div>"
      ],
      "text/plain": [
       "           Name  F2-Score    Recall  Accuracy Score  \\\n",
       "10  Benchmark-2      0.70  0.890000        0.500000   \n",
       "9   Benchmark-1      0.69  1.000000        0.310000   \n",
       "6            GB      0.69  0.680851        0.824675   \n",
       "5            RF      0.68  0.680851        0.811688   \n",
       "7           ADB      0.68  0.680851        0.792208   \n",
       "0           GNB      0.64  0.638298        0.779221   \n",
       "1            DT      0.61  0.617021        0.746753   \n",
       "2           KNN      0.58  0.574468        0.759740   \n",
       "4            LR      0.40  0.361702        0.766234   \n",
       "3           SVC      0.27  0.234043        0.740260   \n",
       "8           MLP      0.27  0.234043        0.727273   \n",
       "\n",
       "                 DecisionTypes  \n",
       "10   TN=37, FP=70, FN=5, TP=42  \n",
       "9    TN=0, FP=107, FN=0, TP=47  \n",
       "6   TN=95, FP=12, FN=15, TP=32  \n",
       "5   TN=93, FP=14, FN=15, TP=32  \n",
       "7   TN=90, FP=17, FN=15, TP=32  \n",
       "0   TN=90, FP=17, FN=17, TP=30  \n",
       "1   TN=86, FP=21, FN=18, TP=29  \n",
       "2   TN=90, FP=17, FN=20, TP=27  \n",
       "4   TN=101, FP=6, FN=30, TP=17  \n",
       "3   TN=103, FP=4, FN=36, TP=11  \n",
       "8   TN=101, FP=6, FN=36, TP=11  "
      ]
     },
     "metadata": {},
     "output_type": "display_data"
    }
   ],
   "source": [
    "names = []\n",
    "accuracy_scores = []\n",
    "recall_scores = []\n",
    "f2_scores = []\n",
    "decision_types = []\n",
    "\n",
    "for name, model in classifiers:\n",
    "    model.fit(X_train, y_train)\n",
    "    y_pred = model.predict(X_test)\n",
    "    accuracy_scores.append(accuracy_score(y_test, y_pred))\n",
    "    recall_scores.append(recall_score(y_test, y_pred) )\n",
    "    \n",
    "    cm = confusion_matrix(y_test.values, y_pred)\n",
    "    tn, fp, fn, tp =  cm.ravel()\n",
    "    \n",
    "    decision_type = \"TN={}, FP={}, FN={}, TP={}\".format(tn, fp, fn, tp)\n",
    "    \n",
    "    decision_types.append(decision_type)\n",
    "    \n",
    "    f2_scores.append(round(fbeta_score(y_test, y_pred, beta=2),2))\n",
    "    try:\n",
    "        print(name, model.feature_importances_)\n",
    "    except (RuntimeError, AttributeError):\n",
    "        print(name, \"feature importance is not applicable\")\n",
    "    names.append(name)\n",
    "    \n",
    "# Adding Benchmark scores for doing a comparitive analysis\n",
    "\n",
    "names.append(\"Benchmark-1\")\n",
    "accuracy_scores.append(0.31)\n",
    "recall_scores.append(1)\n",
    "f2_scores.append(0.69)\n",
    "decision_types.append(\"TN=0, FP=107, FN=0, TP=47\")\n",
    "\n",
    "names.append(\"Benchmark-2\")\n",
    "accuracy_scores.append(0.5)\n",
    "recall_scores.append(0.89)\n",
    "f2_scores.append(0.7)    \n",
    "decision_types.append(\"TN=37, FP=70, FN=5, TP=42\")\n",
    "   \n",
    "print(\"Name\", len(names))    \n",
    "print(\"decision_types\", len(decision_types))\n",
    "\n",
    "tr_split = pd.DataFrame({'Name': names, 'Accuracy Score': accuracy_scores, \n",
    "                         'Recall': recall_scores, 'F2-Score': f2_scores, 'DecisionTypes' : decision_types})\n",
    "display(tr_split[['Name', 'F2-Score','Recall','Accuracy Score', 'DecisionTypes']].sort_values(['F2-Score', 'Recall'], ascending=[False, False]))\n",
    "\n",
    "tr_split.to_csv('score_comparision.csv')\n"
   ]
  },
  {
   "cell_type": "code",
   "execution_count": null,
   "metadata": {
    "collapsed": true
   },
   "outputs": [],
   "source": [
    "# plot learning curve\n",
    "index = [0.01, 0.05, 0.1, 0.2, 0.5, 1]\n",
    "\n",
    "plt.plot(index, train_results, 'o-', color='blue', label='Training Score')\n",
    "plt.plot(index, test_results, 'o-', color='red', label='Test Score')\n",
    "plt.xlim([-0.05, 1.05])\n",
    "plt.ylim([0.60, 1.05])\n",
    "plt.xlabel('Training Size')\n",
    "plt.ylabel('F2 Score')\n",
    "plt.legend(bbox_to_anchor=(1, 0.5), loc='right')\n",
    "plt.title('Learning Curve \\n(Optimized Random Forest Classifier)', fontsize=14, y=1.02)\n"
   ]
  },
  {
   "cell_type": "code",
   "execution_count": 454,
   "metadata": {},
   "outputs": [
    {
     "data": {
      "image/png": "[encoded data removed]",
      "text/plain": [
       "<matplotlib.figure.Figure at 0x1a3bba7748>"
      ]
     },
     "metadata": {},
     "output_type": "display_data"
    }
   ],
   "source": [
    "y=[2.56422, 3.77284,3.52623,3.51468,3.02199]\n",
    "z=[0.15, 0.3, 0.45, 0.6, 0.75]\n",
    "n=[58,651,393,203,123]\n",
    "\n",
    "#fig, axes = plt.subplots(nrows=4, ncols=2, figsize=(16,16))\n",
    "\n",
    "fig, ax = plt.subplots(figsize=(16,16))\n",
    "area = (100 * f2_scores)\n",
    "ax.scatter(recall_scores, accuracy_scores, s=100,marker='*',color='b',linewidths=1)\n",
    "#plt.scatter(x, y, s=area, c=colors, alpha=0.5)\n",
    "\n",
    "ax.set_xlabel(\"Recall Score\", fontsize=20)\n",
    "ax.set_ylabel(\"Accuracy Score\", fontsize=20)\n",
    "\n",
    "for i, txt in enumerate(names):\n",
    "    ax.annotate(txt + \" (F2 : \" + str(round(f2_scores[i],2)) + \")\", (recall_scores[i],accuracy_scores[i]), fontsize=15)\n",
    "\n",
    "ax.grid(True)"
   ]
  },
  {
   "cell_type": "code",
   "execution_count": 507,
   "metadata": {},
   "outputs": [
    {
     "name": "stdout",
     "output_type": "stream",
     "text": [
      "sample_size -  6\n",
      "GaussianNB trained on 6 samples.\n",
      "sample_size -  61\n",
      "GaussianNB trained on 61 samples.\n",
      "sample_size -  614\n",
      "GaussianNB trained on 614 samples.\n",
      "sample_size -  6\n",
      "DecisionTreeClassifier trained on 6 samples.\n",
      "sample_size -  61\n",
      "DecisionTreeClassifier trained on 61 samples.\n",
      "sample_size -  614\n",
      "DecisionTreeClassifier trained on 614 samples.\n",
      "sample_size -  6\n",
      "KNeighborsClassifier trained on 6 samples.\n",
      "sample_size -  61\n",
      "KNeighborsClassifier trained on 61 samples.\n",
      "sample_size -  614\n",
      "KNeighborsClassifier trained on 614 samples.\n",
      "sample_size -  6\n",
      "SVC trained on 6 samples.\n",
      "sample_size -  61\n",
      "SVC trained on 61 samples.\n",
      "sample_size -  614\n",
      "SVC trained on 614 samples.\n",
      "sample_size -  6\n",
      "LogisticRegression trained on 6 samples.\n",
      "sample_size -  61\n",
      "LogisticRegression trained on 61 samples.\n",
      "sample_size -  614\n",
      "LogisticRegression trained on 614 samples.\n",
      "sample_size -  6\n",
      "RandomForestClassifier trained on 6 samples.\n",
      "sample_size -  61\n",
      "RandomForestClassifier trained on 61 samples.\n",
      "sample_size -  614\n",
      "RandomForestClassifier trained on 614 samples.\n",
      "sample_size -  6\n",
      "GradientBoostingClassifier trained on 6 samples.\n",
      "sample_size -  61\n"
     ]
    },
    {
     "name": "stderr",
     "output_type": "stream",
     "text": [
      "/Users/mmukherjee/anaconda/envs/py35/lib/python3.5/site-packages/sklearn/metrics/classification.py:1135: UndefinedMetricWarning: F-score is ill-defined and being set to 0.0 due to no predicted samples.\n",
      "  'precision', 'predicted', average, warn_for)\n",
      "/Users/mmukherjee/anaconda/envs/py35/lib/python3.5/site-packages/sklearn/metrics/classification.py:1135: UndefinedMetricWarning: F-score is ill-defined and being set to 0.0 due to no predicted samples.\n",
      "  'precision', 'predicted', average, warn_for)\n"
     ]
    },
    {
     "name": "stdout",
     "output_type": "stream",
     "text": [
      "GradientBoostingClassifier trained on 61 samples.\n",
      "sample_size -  614\n",
      "GradientBoostingClassifier trained on 614 samples.\n",
      "sample_size -  6\n",
      "AdaBoostClassifier trained on 6 samples.\n",
      "sample_size -  61\n",
      "AdaBoostClassifier trained on 61 samples.\n",
      "sample_size -  614\n",
      "AdaBoostClassifier trained on 614 samples.\n",
      "sample_size -  6\n",
      "MLPClassifier trained on 6 samples.\n",
      "sample_size -  61\n",
      "MLPClassifier trained on 61 samples.\n",
      "sample_size -  614\n"
     ]
    },
    {
     "name": "stderr",
     "output_type": "stream",
     "text": [
      "/Users/mmukherjee/anaconda/envs/py35/lib/python3.5/site-packages/sklearn/neural_network/multilayer_perceptron.py:564: ConvergenceWarning: Stochastic Optimizer: Maximum iterations (200) reached and the optimization hasn't converged yet.\n",
      "  % self.max_iter, ConvergenceWarning)\n",
      "/Users/mmukherjee/anaconda/envs/py35/lib/python3.5/site-packages/sklearn/neural_network/multilayer_perceptron.py:564: ConvergenceWarning: Stochastic Optimizer: Maximum iterations (200) reached and the optimization hasn't converged yet.\n",
      "  % self.max_iter, ConvergenceWarning)\n"
     ]
    },
    {
     "name": "stdout",
     "output_type": "stream",
     "text": [
      "MLPClassifier trained on 614 samples.\n"
     ]
    },
    {
     "ename": "IndexError",
     "evalue": "list index out of range",
     "output_type": "error",
     "traceback": [
      "\u001b[0;31m---------------------------------------------------------------------------\u001b[0m",
      "\u001b[0;31mIndexError\u001b[0m                                Traceback (most recent call last)",
      "\u001b[0;32m<ipython-input-507-22aa98be3e05>\u001b[0m in \u001b[0;36m<module>\u001b[0;34m()\u001b[0m\n\u001b[1;32m     29\u001b[0m \u001b[0;34m\u001b[0m\u001b[0m\n\u001b[1;32m     30\u001b[0m \u001b[0;31m# Run metrics visualization for the three supervised learning models chosen\u001b[0m\u001b[0;34m\u001b[0m\u001b[0;34m\u001b[0m\u001b[0m\n\u001b[0;32m---> 31\u001b[0;31m \u001b[0mvs\u001b[0m\u001b[0;34m.\u001b[0m\u001b[0mevaluate\u001b[0m\u001b[0;34m(\u001b[0m\u001b[0mresults\u001b[0m\u001b[0;34m,\u001b[0m \u001b[0maccuracy\u001b[0m\u001b[0;34m,\u001b[0m \u001b[0mfscore\u001b[0m\u001b[0;34m)\u001b[0m\u001b[0;34m\u001b[0m\u001b[0m\n\u001b[0m",
      "\u001b[0;32m/Users/mmukherjee/PycharmProjects/MLTools/src/mlnd-projects/Capstone/diabetes/visuals.py\u001b[0m in \u001b[0;36mevaluate\u001b[0;34m(results, accuracy, f1)\u001b[0m\n\u001b[1;32m     73\u001b[0m \u001b[0;34m\u001b[0m\u001b[0m\n\u001b[1;32m     74\u001b[0m                 \u001b[0;31m# Creative plot code\u001b[0m\u001b[0;34m\u001b[0m\u001b[0;34m\u001b[0m\u001b[0m\n\u001b[0;32m---> 75\u001b[0;31m                 \u001b[0max\u001b[0m\u001b[0;34m[\u001b[0m\u001b[0mj\u001b[0m\u001b[0;34m//\u001b[0m\u001b[0;36m3\u001b[0m\u001b[0;34m,\u001b[0m \u001b[0mj\u001b[0m\u001b[0;34m%\u001b[0m\u001b[0;36m3\u001b[0m\u001b[0;34m]\u001b[0m\u001b[0;34m.\u001b[0m\u001b[0mbar\u001b[0m\u001b[0;34m(\u001b[0m\u001b[0mi\u001b[0m\u001b[0;34m+\u001b[0m\u001b[0mk\u001b[0m\u001b[0;34m*\u001b[0m\u001b[0mbar_width\u001b[0m\u001b[0;34m,\u001b[0m \u001b[0mresults\u001b[0m\u001b[0;34m[\u001b[0m\u001b[0mlearner\u001b[0m\u001b[0;34m]\u001b[0m\u001b[0;34m[\u001b[0m\u001b[0mi\u001b[0m\u001b[0;34m]\u001b[0m\u001b[0;34m[\u001b[0m\u001b[0mmetric\u001b[0m\u001b[0;34m]\u001b[0m\u001b[0;34m,\u001b[0m \u001b[0mwidth\u001b[0m \u001b[0;34m=\u001b[0m \u001b[0mbar_width\u001b[0m\u001b[0;34m,\u001b[0m \u001b[0mcolor\u001b[0m \u001b[0;34m=\u001b[0m \u001b[0mcolors\u001b[0m\u001b[0;34m[\u001b[0m\u001b[0mk\u001b[0m\u001b[0;34m]\u001b[0m\u001b[0;34m)\u001b[0m\u001b[0;34m\u001b[0m\u001b[0m\n\u001b[0m\u001b[1;32m     76\u001b[0m                 \u001b[0max\u001b[0m\u001b[0;34m[\u001b[0m\u001b[0mj\u001b[0m\u001b[0;34m//\u001b[0m\u001b[0;36m3\u001b[0m\u001b[0;34m,\u001b[0m \u001b[0mj\u001b[0m\u001b[0;34m%\u001b[0m\u001b[0;36m3\u001b[0m\u001b[0;34m]\u001b[0m\u001b[0;34m.\u001b[0m\u001b[0mset_xticks\u001b[0m\u001b[0;34m(\u001b[0m\u001b[0;34m[\u001b[0m\u001b[0;36m0.45\u001b[0m\u001b[0;34m,\u001b[0m \u001b[0;36m1.45\u001b[0m\u001b[0;34m,\u001b[0m \u001b[0;36m2.45\u001b[0m\u001b[0;34m]\u001b[0m\u001b[0;34m)\u001b[0m\u001b[0;34m\u001b[0m\u001b[0m\n\u001b[1;32m     77\u001b[0m                 \u001b[0max\u001b[0m\u001b[0;34m[\u001b[0m\u001b[0mj\u001b[0m\u001b[0;34m//\u001b[0m\u001b[0;36m3\u001b[0m\u001b[0;34m,\u001b[0m \u001b[0mj\u001b[0m\u001b[0;34m%\u001b[0m\u001b[0;36m3\u001b[0m\u001b[0;34m]\u001b[0m\u001b[0;34m.\u001b[0m\u001b[0mset_xticklabels\u001b[0m\u001b[0;34m(\u001b[0m\u001b[0;34m[\u001b[0m\u001b[0;34m\"1%\"\u001b[0m\u001b[0;34m,\u001b[0m \u001b[0;34m\"10%\"\u001b[0m\u001b[0;34m,\u001b[0m \u001b[0;34m\"100%\"\u001b[0m\u001b[0;34m]\u001b[0m\u001b[0;34m)\u001b[0m\u001b[0;34m\u001b[0m\u001b[0m\n",
      "\u001b[0;31mIndexError\u001b[0m: list index out of range"
     ]
    },
    {
     "data": {
      "image/png": "[encoded data removed]",
      "text/plain": [
       "<matplotlib.figure.Figure at 0x1a3a30da20>"
      ]
     },
     "metadata": {},
     "output_type": "display_data"
    }
   ],
   "source": [
    "# TODO: Import the three supervised learning models from sklearn\n",
    "from sklearn import linear_model\n",
    "from sklearn import tree\n",
    "from sklearn import svm\n",
    "from sklearn.ensemble import AdaBoostClassifier\n",
    "\n",
    "# TODO: Initialize the three models\n",
    "clf_A = linear_model.LogisticRegression(random_state=11)\n",
    "clf_B = tree.DecisionTreeClassifier(random_state=11)\n",
    "clf_C = AdaBoostClassifier()\n",
    "\n",
    "# TODO: Calculate the number of samples for 1%, 10%, and 100% of the training data\n",
    "# HINT: samples_100 is the entire training set i.e. len(y_train)\n",
    "# HINT: samples_10 is 10% of samples_100\n",
    "# HINT: samples_1 is 1% of samples_100\n",
    "# print int(X_train.shape[0]*(0.01)), int(X_train.shape[0]*(0.1)), X_train.shape[0]\n",
    "samples_100 = X_train.shape[0]\n",
    "samples_10 = int(X_train.shape[0]*(0.1))\n",
    "samples_1 = int(X_train.shape[0]*(0.01))\n",
    "\n",
    "# Collect results on the learners\n",
    "results = {}\n",
    "for name, model in classifiers\n",
    "for _, clf in classifiers:\n",
    "    clf_name = clf.__class__.__name__\n",
    "    results[clf_name] = {}\n",
    "    for i, samples in enumerate([samples_1, samples_10, samples_100]):\n",
    "        results[clf_name][i] = \\\n",
    "        train_predict(clf, samples, X_train, y_train, X_test, y_test)\n",
    "\n",
    "# Run metrics visualization for the three supervised learning models chosen\n",
    "vs.evaluate(results, accuracy, fscore)"
   ]
  },
  {
   "cell_type": "markdown",
   "metadata": {},
   "source": [
    "###  Supervised Learning Models\n",
    "**The following are some of the supervised learning models that are currently available in** [`scikit-learn`](http://scikit-learn.org/stable/supervised_learning.html) **that you may choose from:**\n",
    "- Gaussian Naive Bayes (GaussianNB)\n",
    "- Decision Trees\n",
    "- Ensemble Methods (Bagging, AdaBoost, Random Forest, Gradient Boosting)\n",
    "- K-Nearest Neighbors (KNeighbors)\n",
    "- Stochastic Gradient Descent Classifier (SGDC)\n",
    "- Support Vector Machines (SVM)\n",
    "- Logistic Regression"
   ]
  },
  {
   "cell_type": "markdown",
   "metadata": {},
   "source": [
    "### Question 2 - Model Application\n",
    "List three of the supervised learning models above that are appropriate for this problem that you will test on the census data. For each model chosen\n",
    "\n",
    "- Describe one real-world application in industry where the model can be applied. \n",
    "- What are the strengths of the model; when does it perform well?\n",
    "- What are the weaknesses of the model; when does it perform poorly?\n",
    "- What makes this model a good candidate for the problem, given what you know about the data?\n",
    "\n",
    "** HINT: **\n",
    "\n",
    "Structure your answer in the same format as above^, with 4 parts for each of the three models you pick. Please include references with your answer."
   ]
  },
  {
   "cell_type": "markdown",
   "metadata": {},
   "source": [
    "**Answer: **\n",
    "\n",
    "The following three supervised learning models are appropriate for this problem. \n",
    "\n",
    "***1. Logistic Regression ***\n",
    "\n",
    "- Real-world application\n",
    "    * Predition of football match or election\n",
    "    \n",
    "- Model's strength\n",
    "\n",
    "    * Simple algo and implementation\n",
    "    * Training time is less \n",
    "\n",
    "- Model's weakness\n",
    "    * High bias - Sometimes, it generalizes the data. \n",
    "\n",
    "- Model choice ( w.r.t Census dataset )\n",
    "    * Here the output is categorical(earning more or less thank 50K). Since it is a classification problem, so 'Logistic Regression' is one of the obvious choice to start with.\n",
    "\n",
    "***1. Decision Tree ***\n",
    "\n",
    "- Real-world application\n",
    "    * customer relationship management and fraud detection \n",
    "    * Ref - http://what-when-how.com/artificial-intelligence/decision-tree-applications-for-data-modelling-artificial-intelligence/ \n",
    "    \n",
    "- Model's strength\n",
    "    * Are simple to understand and interpret. People are able to understand decision tree models after a brief explanation.\n",
    "    * Have value even with little hard data. Important insights can be generated based on experts describing a situation (its alternatives, probabilities, and costs) and their preferences for outcomes.\n",
    "    * Allow the addition of new possible scenarios.\n",
    "    * Help determine worst, best and expected values for different scenarios.\n",
    "    * Can be combined with other decision techniques.\n",
    "    * Ref - https://en.wikipedia.org/wiki/Decision_tree#Advantages_and_disadvantages\n",
    "    \n",
    "- Model's weakness\n",
    "    * Calculations can get very complex, particularly if many values are uncertain and/or if many outcomes are linked.\n",
    "\n",
    "- Model choice ( w.r.t Census dataset )\n",
    "    * This dataset has multiple key attributes which can influence the prediction.\n",
    "\n",
    "***1. Ensemble Methods ( AdaBoost ) ***\n",
    "\n",
    "- Real-world application\n",
    "    * Analyzing Sentiment( Output - Positive/Negative ). This model can be used along with Decision Tree to optimize the performance. \n",
    "    \n",
    "- Model's strength\n",
    "    * AdaBoost is best used to boost the performance of decision trees on binary classification problems.\n",
    "\n",
    "- Model's weakness\n",
    "    * It tries to correct the miss-classified points repeatedly, so it doesn't do good job when data quality is bad or data has too much outliers. \n",
    "    \n",
    "- Model choice ( w.r.t Census dataset )\n",
    "    * Census data set has a well structured data set. Before applying this alogorithm, we can easily normalize attributes which have high variance. \n",
    "    * This is a classification problem which can be solved using Decision Tree. AdaBoost will help to increase the model performance significantly. \n",
    "    \n",
    "    * Ref - https://machinelearningmastery.com/boosting-and-adaboost-for-machine-learning/\n",
    "    \n",
    "#### Further Reading - \n",
    "* [advantages-of-different-classification-algorithms](https://www.quora.com/What-are-the-advantages-of-different-classification-algorithms)\n",
    "* [model-selection-in-datascience](http://sebastianraschka.com/faq/docs/model-selection-in-datascience.html)\n",
    "* [plot_classifier_comparison](http://scikit-learn.org/stable/auto_examples/classification/plot_classifier_comparison.html)\n",
    "* [machine-learning-algorithm-choice](https://docs.microsoft.com/en-us/azure/machine-learning/machine-learning-algorithm-choice)\n",
    "* [data-science-machine-learning-cheat-sheets-updated](http://www.kdnuggets.com/2016/12/data-science-machine-learning-cheat-sheets-updated.html)\n",
    "    "
   ]
  },
  {
   "cell_type": "markdown",
   "metadata": {},
   "source": [
    "### Implementation - Creating a Training and Predicting Pipeline\n",
    "To properly evaluate the performance of each model you've chosen, it's important that you create a training and predicting pipeline that allows you to quickly and effectively train models using various sizes of training data and perform predictions on the testing data. Your implementation here will be used in the following section.\n",
    "In the code block below, you will need to implement the following:\n",
    " - Import `fbeta_score` and `accuracy_score` from [`sklearn.metrics`](http://scikit-learn.org/stable/modules/classes.html#sklearn-metrics-metrics).\n",
    " - Fit the learner to the sampled training data and record the training time.\n",
    " - Perform predictions on the test data `X_test`, and also on the first 300 training points `X_train[:300]`.\n",
    "   - Record the total prediction time.\n",
    " - Calculate the accuracy score for both the training subset and testing set.\n",
    " - Calculate the F-score for both the training subset and testing set.\n",
    "   - Make sure that you set the `beta` parameter!"
   ]
  },
  {
   "cell_type": "code",
   "execution_count": null,
   "metadata": {
    "collapsed": true
   },
   "outputs": [],
   "source": [
    "# TODO: Import two metrics from sklearn - fbeta_score and accuracy_score\n",
    "from sklearn.metrics import fbeta_score, accuracy_score\n",
    "\n",
    "def train_predict(learner, sample_size, X_train, y_train, X_test, y_test): \n",
    "    '''\n",
    "    inputs:\n",
    "       - learner: the learning algorithm to be trained and predicted on\n",
    "       - sample_size: the size of samples (number) to be drawn from training set\n",
    "       - X_train: features training set\n",
    "       - y_train: income training set\n",
    "       - X_test: features testing set\n",
    "       - y_test: income testing set\n",
    "    '''\n",
    "    \n",
    "    results = {}\n",
    "    \n",
    "    print 'sample_size - ', sample_size\n",
    "    \n",
    "    # TODO: Fit the learner to the training data using slicing with 'sample_size' using .fit(training_features[:], training_labels[:])\n",
    "    start = time() # Get start time\n",
    "    learner.fit(X_train[:sample_size], y_train[:sample_size])\n",
    "    end = time() # Get end time\n",
    "    \n",
    "    # TODO: Calculate the training time\n",
    "    results['train_time'] = end - start\n",
    "        \n",
    "    # TODO: Get the predictions on the test set(X_test),\n",
    "    #       then get predictions on the first 300 training samples(X_train) using .predict()\n",
    "    start = time() # Get start time\n",
    "    predictions_test = learner.predict(X_test)\n",
    "    predictions_train = learner.predict(X_train[0:300])\n",
    "    end = time() # Get end time\n",
    "    \n",
    "    # TODO: Calculate the total prediction time\n",
    "    results['pred_time'] = end-start\n",
    "            \n",
    "    # TODO: Compute accuracy on the first 300 training samples which is y_train[:300]\n",
    "    results['acc_train'] = accuracy_score(y_train[:300], predictions_train)\n",
    "        \n",
    "    # TODO: Compute accuracy on test set using accuracy_score()\n",
    "    results['acc_test'] = accuracy_score(y_test, predictions_test)\n",
    "    \n",
    "    # TODO: Compute F-score on the the first 300 training samples using fbeta_score()\n",
    "    results['f_train'] = fbeta_score(y_train[:300], predictions_train, beta=0.5)\n",
    "        \n",
    "    # TODO: Compute F-score on the test set which is y_test\n",
    "    results['f_test'] = fbeta_score(y_test, predictions_test, beta=0.5)\n",
    "       \n",
    "    # Success\n",
    "    print \"{} trained on {} samples.\".format(learner.__class__.__name__, sample_size)\n",
    "        \n",
    "    # Return the results\n",
    "    return results"
   ]
  },
  {
   "cell_type": "markdown",
   "metadata": {},
   "source": [
    "### Implementation: Initial Model Evaluation\n",
    "In the code cell, you will need to implement the following:\n",
    "- Import the three supervised learning models you've discussed in the previous section.\n",
    "- Initialize the three models and store them in `'clf_A'`, `'clf_B'`, and `'clf_C'`.\n",
    "  - Use a `'random_state'` for each model you use, if provided.\n",
    "  - **Note:** Use the default settings for each model — you will tune one specific model in a later section.\n",
    "- Calculate the number of records equal to 1%, 10%, and 100% of the training data.\n",
    "  - Store those values in `'samples_1'`, `'samples_10'`, and `'samples_100'` respectively.\n",
    "\n",
    "**Note:** Depending on which algorithms you chose, the following implementation may take some time to run!"
   ]
  },
  {
   "cell_type": "code",
   "execution_count": null,
   "metadata": {},
   "outputs": [],
   "source": [
    "# TODO: Import the three supervised learning models from sklearn\n",
    "from sklearn import linear_model\n",
    "from sklearn import tree\n",
    "from sklearn import svm\n",
    "from sklearn.ensemble import AdaBoostClassifier\n",
    "\n",
    "# TODO: Initialize the three models\n",
    "clf_A = linear_model.LogisticRegression(random_state=11)\n",
    "clf_B = tree.DecisionTreeClassifier(random_state=11)\n",
    "clf_C = AdaBoostClassifier()\n",
    "\n",
    "# TODO: Calculate the number of samples for 1%, 10%, and 100% of the training data\n",
    "# HINT: samples_100 is the entire training set i.e. len(y_train)\n",
    "# HINT: samples_10 is 10% of samples_100\n",
    "# HINT: samples_1 is 1% of samples_100\n",
    "# print int(X_train.shape[0]*(0.01)), int(X_train.shape[0]*(0.1)), X_train.shape[0]\n",
    "samples_100 = X_train.shape[0]\n",
    "samples_10 = int(X_train.shape[0]*(0.1))\n",
    "samples_1 = int(X_train.shape[0]*(0.01))\n",
    "\n",
    "# Collect results on the learners\n",
    "results = {}\n",
    "for clf in [clf_A, clf_B, clf_C]:\n",
    "    clf_name = clf.__class__.__name__\n",
    "    results[clf_name] = {}\n",
    "    for i, samples in enumerate([samples_1, samples_10, samples_100]):\n",
    "        results[clf_name][i] = \\\n",
    "        train_predict(clf, samples, X_train, y_train, X_test, y_test)\n",
    "\n",
    "# Run metrics visualization for the three supervised learning models chosen\n",
    "vs.evaluate(results, accuracy, fscore)"
   ]
  },
  {
   "cell_type": "code",
   "execution_count": null,
   "metadata": {},
   "outputs": [],
   "source": [
    "from sklearn.externals.six import StringIO  \n",
    "from IPython.display import Image  \n",
    "from sklearn.tree import export_graphviz\n",
    "import pydotplus\n",
    "\n",
    "dot_data = StringIO()\n",
    "export_graphviz(clf_B, out_file=dot_data,  \n",
    "                filled=True, rounded=True,\n",
    "                special_characters=True)\n",
    "graph = pydotplus.graph_from_dot_data(dot_data.getvalue())  \n",
    "Image(graph.create_png())"
   ]
  },
  {
   "cell_type": "markdown",
   "metadata": {},
   "source": [
    "----\n",
    "## Improving Results\n",
    "In this final section, you will choose from the three supervised learning models the *best* model to use on the student data. You will then perform a grid search optimization for the model over the entire training set (`X_train` and `y_train`) by tuning at least one parameter to improve upon the untuned model's F-score. "
   ]
  },
  {
   "cell_type": "markdown",
   "metadata": {},
   "source": [
    "### Question 3 - Choosing the Best Model\n",
    "\n",
    "* Based on the evaluation you performed earlier, in one to two paragraphs, explain to *CharityML* which of the three models you believe to be most appropriate for the task of identifying individuals that make more than \\$50,000. \n",
    "\n",
    "** HINT: ** \n",
    "Look at the graph at the bottom left from the cell above(the visualization created by `vs.evaluate(results, accuracy, fscore)`) and check the F score for the testing set when 100% of the training set is used. Which model has the highest score? Your answer should include discussion of the:\n",
    "* metrics - F score on the testing when 100% of the training data is used, \n",
    "* prediction/training time\n",
    "* the algorithm's suitability for the data."
   ]
  },
  {
   "cell_type": "markdown",
   "metadata": {},
   "source": [
    "**Answer: **\n",
    "\n",
    "For this dataset, it is really important to predict the number of persons who make more than 50K. If the model predicts that a given person can donate money(in other words make more than 50K per year) but actually isn't then that would cause a severe negative effect. While calculating the algorithm's performance(based on a standard scoring mechanism), we have given emphasis on the model's precision. \n",
    "\n",
    "We evaluated all possible algorithms to find the best model that would predict the outcome with a significantly high precision. \n",
    "After doing comparative analysis, we restricted our focus on the following 3 algorithms. \n",
    "\n",
    "1. Logistic Regression \n",
    "2. Decision Tree\n",
    "3. Ensemble Method ( AdaBoost ) \n",
    "\n",
    "We found that AdaBoost algoritm has the best performance. This algorithm internally uses the Decision Tree algorithm and optimzed its performance.\n",
    "Ref - Accuracy score and F-score on testing data are 0.8576 and 0.7246. \n",
    "Since 'census data' is not huge in size, so this model didn't take much time for training. But if we had a larger data set, then this model could have taken a significantly long time for training. \n",
    "If we had larger dataset and an immidiate need to use this in production environment, then we could have used the 'Logistic Regression' model which gives the 2nd best performance.\n",
    "\n",
    "PFB section which shows the exact error% of the 3 models which we have used in the experimentation. \n"
   ]
  },
  {
   "cell_type": "code",
   "execution_count": null,
   "metadata": {},
   "outputs": [],
   "source": [
    "from sklearn.metrics import confusion_matrix\n",
    "import seaborn as sns\n",
    "import matplotlib.pyplot as plt\n",
    "%matplotlib inline\n",
    "\n",
    "# Compute confusion matrix for a model\n",
    "print \"Total Error (False Negative + False Positive) % \\n-----------------------------------------------\\n\"\n",
    "def create_confusion_matrix(model, model_name):\n",
    "    cm = confusion_matrix(y_test.values, model.predict(X_test))\n",
    "    tn, fp, fn, tp =  cm.ravel()\n",
    "    print \"Model - {:s}  \".format(model_name),  \"- {:.2f}%\".format((fp + fn)*100/float(y_test.count()))\n",
    "    \n",
    "create_confusion_matrix(clf_C, \"AdaBoostClassifier\")\n",
    "create_confusion_matrix(clf_A, \"LogisticRegression\")\n",
    "create_confusion_matrix(clf_B, \"Decision Tree\")\n",
    "\n",
    "# Display confusion-matrix of the AdaBoost classifier\n",
    "print \"\\nConfusion-matrix of the AdaBoost classifier\\n-------------------------------------------\\n\"\n",
    "model = clf_C\n",
    "cm = confusion_matrix(y_test.values, model.predict(X_test))\n",
    "\n",
    "tn, fp, fn, tp =  cm.ravel()\n",
    "# print (tn, fp, fn, tp)\n",
    "# view with a heatmap\n",
    "sns.heatmap(cm, annot=True, cmap='Greens', xticklabels=['no', 'yes'], yticklabels=['no', 'yes'])\n",
    "plt.ylabel('True label')\n",
    "plt.xlabel('Predicted label')\n",
    "plt.title('Confusion matrix for:\\n{}'.format(model.__class__.__name__));\n",
    "\n",
    "print (tn, fp, fn, tp)\n"
   ]
  },
  {
   "cell_type": "markdown",
   "metadata": {},
   "source": [
    "### Question 4 - Describing the Model in Layman's Terms\n",
    "\n",
    "* In one to two paragraphs, explain to *CharityML*, in layman's terms, how the final model chosen is supposed to work. Be sure that you are describing the major qualities of the model, such as how the model is trained and how the model makes a prediction. Avoid using advanced mathematical jargon, such as describing equations.\n",
    "\n",
    "** HINT: **\n",
    "\n",
    "When explaining your model, if using external resources please include all citations."
   ]
  },
  {
   "cell_type": "markdown",
   "metadata": {},
   "source": [
    "**Answer: ** \n",
    "\n",
    "We chose the final model called AdaBoost classifier which is a type of Ensemble method. This approach tries to combine the predictions of several base learners(models) built with a given learning algorithm(we used 'Decision Tree') in order to create a generalized, robust and complex single estimator. Each one of this base learner(known as 'weak learner') makes predictions which are correct at least 50% of the time. A set of such weak(and simple) learners sequentially classify the whole dataset with a unique dimension(split point) and measure the complexity of each data points by assigning a weight. Every weak learner focuses to classify the data points which were marked as complex(according to weight value) by the previous classifier. This general and provably effective method of producing a very accurate prediction rule by combining weak/simple and moderately inaccurate rules is known as Boosting.\n",
    "\n",
    "In this case, the AdaBoost based model fits the census data well and it operates with an optimized(~83%) accuracy.\n",
    "\n",
    "Book Ref - [Boosting](https://mitpress.mit.edu/sites/default/files/titles/content/9780262017183_sch_0001.pdf) By Robert E. Schapire and Yoav Freund"
   ]
  },
  {
   "cell_type": "markdown",
   "metadata": {},
   "source": [
    "### Implementation: Model Tuning\n",
    "Fine tune the chosen model. Use grid search (`GridSearchCV`) with at least one important parameter tuned with at least 3 different values. You will need to use the entire training set for this. In the code cell below, you will need to implement the following:\n",
    "- Import [`sklearn.grid_search.GridSearchCV`](http://scikit-learn.org/0.17/modules/generated/sklearn.grid_search.GridSearchCV.html) and [`sklearn.metrics.make_scorer`](http://scikit-learn.org/stable/modules/generated/sklearn.metrics.make_scorer.html).\n",
    "- Initialize the classifier you've chosen and store it in `clf`.\n",
    " - Set a `random_state` if one is available to the same state you set before.\n",
    "- Create a dictionary of parameters you wish to tune for the chosen model.\n",
    " - Example: `parameters = {'parameter' : [list of values]}`.\n",
    " - **Note:** Avoid tuning the `max_features` parameter of your learner if that parameter is available!\n",
    "- Use `make_scorer` to create an `fbeta_score` scoring object (with $\\beta = 0.5$).\n",
    "- Perform grid search on the classifier `clf` using the `'scorer'`, and store it in `grid_obj`.\n",
    "- Fit the grid search object to the training data (`X_train`, `y_train`), and store it in `grid_fit`.\n",
    "\n",
    "**Note:** Depending on the algorithm chosen and the parameter list, the following implementation may take some time to run!"
   ]
  },
  {
   "cell_type": "code",
   "execution_count": null,
   "metadata": {},
   "outputs": [],
   "source": [
    "# TODO: Import 'GridSearchCV', 'make_scorer', and any other necessary libraries\n",
    "from sklearn.model_selection import GridSearchCV\n",
    "from sklearn.metrics import make_scorer\n",
    "from sklearn import tree\n",
    "from sklearn.ensemble import AdaBoostClassifier\n",
    "\n",
    "# TODO: Initialize the classifier\n",
    "#clf = tree.DecisionTreeClassifier(random_state=11)\n",
    "\n",
    "#DTC = tree.DecisionTreeClassifier(random_state = 11, min_samples_split=5, max_depth=8)\n",
    "#I will experiment with the DecisionTreeClassifier parameters in future. \n",
    "# Further reading required - To boost performance, it is essential to have good feature engineering and data conditioning\n",
    "clf = AdaBoostClassifier(random_state=11)\n",
    "\n",
    "# TODO: Create the parameters list you wish to tune, using a dictionary if needed.\n",
    "# HINT: parameters = {'parameter_1': [value1, value2], 'parameter_2': [value1, value2]}\n",
    "# parameters = {'parameter_1': [value1, value2], 'parameter_2': [value1, value2]}\n",
    "    \n",
    "#parameters = {'min_samples_split' : [2], 'max_depth': [11], 'min_samples_split': [4]}  \n",
    "\n",
    "#n_estimators : integer, optional (default=50)\n",
    "#The maximum number of estimators at which boosting is terminated. In case of perfect fit, the learning procedure is stopped early.\n",
    "parameters = {'n_estimators':[100, 200, 300]}\n",
    "\n",
    "# TODO: Make an fbeta_score scoring object using make_scorer()\n",
    "scorer = make_scorer(fbeta_score, beta=0.5)\n",
    "\n",
    "# TODO: Perform grid search on the classifier using 'scorer' as the scoring method using GridSearchCV()\n",
    "grid_obj = GridSearchCV(clf,parameters, scoring=scorer)\n",
    "\n",
    "# TODO: Fit the grid search object to the training data and find the optimal parameters using fit()\n",
    "grid_fit = grid_obj.fit(X_train, y_train)\n",
    "\n",
    "# Get the estimator\n",
    "best_clf = grid_fit.best_estimator_\n",
    "\n",
    "# Make predictions using the unoptimized and model\n",
    "predictions = (clf.fit(X_train, y_train)).predict(X_test)\n",
    "best_predictions = best_clf.predict(X_test)\n",
    "\n",
    "# Report the before-and-afterscores\n",
    "print \"Unoptimized model\\n------\"\n",
    "print \"Accuracy score on testing data: {:.4f}\".format(accuracy_score(y_test, predictions))\n",
    "print \"F-score on testing data: {:.4f}\".format(fbeta_score(y_test, predictions, beta = 0.5))\n",
    "print \"\\nOptimized Model\\n------\"\n",
    "print \"Final accuracy score on the testing data: {:.4f}\".format(accuracy_score(y_test, best_predictions))\n",
    "print \"Final F-score on the testing data: {:.4f}\".format(fbeta_score(y_test, best_predictions, beta = 2))\n",
    "\n",
    "from sklearn.metrics import recall_score\n",
    "print recall_score(y_test, best_predictions)"
   ]
  },
  {
   "cell_type": "markdown",
   "metadata": {},
   "source": [
    "### Question 5 - Final Model Evaluation\n",
    "\n",
    "* What is your optimized model's accuracy and F-score on the testing data? \n",
    "* Are these scores better or worse than the unoptimized model? \n",
    "* How do the results from your optimized model compare to the naive predictor benchmarks you found earlier in **Question 1**?_  \n",
    "\n",
    "**Note:** Fill in the table below with your results, and then provide discussion in the **Answer** box."
   ]
  },
  {
   "cell_type": "markdown",
   "metadata": {},
   "source": [
    "#### Results:\n",
    "\n",
    "|     Metric     | Unoptimized Model | Optimized Model |\n",
    "| :------------: | :---------------: | :-------------: | \n",
    "| Accuracy Score |    0.8576         |    0.8663       |\n",
    "| F-score        |    0.7246         |    0.7425       |\n"
   ]
  },
  {
   "cell_type": "markdown",
   "metadata": {},
   "source": [
    "**Answer: **\n",
    "\n",
    "    The 'accuracy score' and 'F-score' on the testing data are 0.8663 and 0.7425. \n",
    "    The equivalent scores for Naive Predictor was 0.2478 and 0.2917\n",
    "    \n",
    "    The result of the optimized model is much better than the navie predictor. "
   ]
  },
  {
   "cell_type": "markdown",
   "metadata": {},
   "source": [
    "----\n",
    "## Feature Importance\n",
    "\n",
    "An important task when performing supervised learning on a dataset like the census data we study here is determining which features provide the most predictive power. By focusing on the relationship between only a few crucial features and the target label we simplify our understanding of the phenomenon, which is most always a useful thing to do. In the case of this project, that means we wish to identify a small number of features that most strongly predict whether an individual makes at most or more than \\$50,000.\n",
    "\n",
    "Choose a scikit-learn classifier (e.g., adaboost, random forests) that has a `feature_importance_` attribute, which is a function that ranks the importance of features according to the chosen classifier.  In the next python cell fit this classifier to training set and use this attribute to determine the top 5 most important features for the census dataset."
   ]
  },
  {
   "cell_type": "markdown",
   "metadata": {},
   "source": [
    "### Question 6 - Feature Relevance Observation\n",
    "When **Exploring the Data**, it was shown there are thirteen available features for each individual on record in the census data. Of these thirteen records, which five features do you believe to be most important for prediction, and in what order would you rank them and why?"
   ]
  },
  {
   "cell_type": "markdown",
   "metadata": {},
   "source": [
    "**Answer:**\n",
    "\n",
    "Before doing the analysis, I did some high level analysis of the cencus data using excel.\n",
    "\n",
    "Based on some asumptions, I think the following 5 features are really important. \n",
    "\n",
    "1. Capital gain \n",
    "2. Captial loss \n",
    "    - Above two attributes are key features to determine if a person makes more than $50K. I think these two attributes should be considered together( like difference of gain and loss) to get a better picture. \n",
    "\n",
    "3. Education -\n",
    "    - In general, persons with higher educational degree (undergrad college degree and above) should have better chance of making $50K per year.\n",
    "\n",
    "2. Hours-per-Week - \n",
    "    - For hourly paying jobs, more income is kind of propotional to more number of working hours.\n",
    "\n",
    "5. WorkClass - \n",
    "    - All persons who are doing some job(specially in Govt. sectors) should have better financial stability or earning potential than the other groups. \n",
    " [ Available Workclasses - State-gov,Self-emp-not-inc,Private,Federal-gov,Local-gov,Self-emp-inc,Without-pay ]\n",
    " "
   ]
  },
  {
   "cell_type": "markdown",
   "metadata": {},
   "source": [
    "### Implementation - Extracting Feature Importance\n",
    "Choose a `scikit-learn` supervised learning algorithm that has a `feature_importance_` attribute availble for it. This attribute is a function that ranks the importance of each feature when making predictions based on the chosen algorithm.\n",
    "\n",
    "In the code cell below, you will need to implement the following:\n",
    " - Import a supervised learning model from sklearn if it is different from the three used earlier.\n",
    " - Train the supervised model on the entire training set.\n",
    " - Extract the feature importances using `'.feature_importances_'`."
   ]
  },
  {
   "cell_type": "code",
   "execution_count": null,
   "metadata": {},
   "outputs": [],
   "source": [
    "# TODO: Import a supervised learning model that has 'feature_importances_'\n",
    "from sklearn.ensemble import AdaBoostClassifier\n",
    "\n",
    "# TODO: Train the supervised model on the training set using .fit(X_train, y_train)\n",
    "model = AdaBoostClassifier(random_state=11)\n",
    "model.fit(X_train, y_train)\n",
    "\n",
    "#print X_train.shape\n",
    "#print len(model.feature_importances_)\n",
    "#print np.sum(model.feature_importances_)\n",
    "\n",
    "# TODO: Extract the feature importances using .feature_importances_ \n",
    "importances = model.feature_importances_\n",
    "\n",
    "# Plot\n",
    "vs.feature_plot(importances, X_train, y_train)"
   ]
  },
  {
   "cell_type": "markdown",
   "metadata": {},
   "source": [
    "### Question 7 - Extracting Feature Importance\n",
    "\n",
    "Observe the visualization created above which displays the five most relevant features for predicting if an individual makes at most or above \\$50,000.  \n",
    "* How do these five features compare to the five features you discussed in **Question 6**?\n",
    "* If you were close to the same answer, how does this visualization confirm your thoughts? \n",
    "* If you were not close, why do you think these features are more relevant?"
   ]
  },
  {
   "cell_type": "markdown",
   "metadata": {},
   "source": [
    "**Answer:**\n",
    "\n",
    "#### Results:\n",
    "\n",
    "|    Feature Imp - My Observation    | Feature Imp - Actual based on data  |\n",
    "| :--------------------------------: | :---------------------------------: | \n",
    "| Capital Gain.                      | Capital Loss                        |\n",
    "| Capital Loss                       | Age                                 |\n",
    "| Education.                         | Capital Gain                        |\n",
    "| Hours-per-week                     | hours-per-week                      |\n",
    "| Work Class.                        | Education-num                       |\n",
    "\n",
    "I guessed 4 out of 5 important features based on my high-level analysis using excel. \n",
    "I was not sure about the 'Age' attribute and its significance on the earning capacity. I also thought that 'Work Class' is an important feature for this use-case. I think that the data and the related important features-set may vary based on country/state/econoimic condition.\n",
    "\n",
    "According to the visualization generated by 'model.feature_importances_', 'capital-loss' followed by 'age' are the top two important features in predicting a subject's earning potential above $50K."
   ]
  },
  {
   "cell_type": "markdown",
   "metadata": {},
   "source": [
    "### Feature Selection\n",
    "How does a model perform if we only use a subset of all the available features in the data? With less features required to train, the expectation is that training and prediction time is much lower — at the cost of performance metrics. From the visualization above, we see that the top five most important features contribute more than half of the importance of **all** features present in the data. This hints that we can attempt to *reduce the feature space* and simplify the information required for the model to learn. The code cell below will use the same optimized model you found earlier, and train it on the same training set *with only the top five important features*. "
   ]
  },
  {
   "cell_type": "code",
   "execution_count": null,
   "metadata": {},
   "outputs": [],
   "source": [
    "# Import functionality for cloning a model\n",
    "from sklearn.base import clone\n",
    "\n",
    "# Reduce the feature space\n",
    "X_train_reduced = X_train[X_train.columns.values[(np.argsort(importances)[::-1])[:5]]]\n",
    "X_test_reduced = X_test[X_test.columns.values[(np.argsort(importances)[::-1])[:5]]]\n",
    "\n",
    "# Train on the \"best\" model found from grid search earlier\n",
    "clf = (clone(best_clf)).fit(X_train_reduced, y_train)\n",
    "\n",
    "# Make new predictions\n",
    "reduced_predictions = clf.predict(X_test_reduced)\n",
    "\n",
    "# Report scores from the final model using both versions of data\n",
    "print \"Final Model trained on full data\\n------\"\n",
    "print \"Accuracy on testing data: {:.4f}\".format(accuracy_score(y_test, best_predictions))\n",
    "print \"F-score on testing data: {:.4f}\".format(fbeta_score(y_test, best_predictions, beta = 0.5))\n",
    "print \"\\nFinal Model trained on reduced data\\n------\"\n",
    "print \"Accuracy on testing data: {:.4f}\".format(accuracy_score(y_test, reduced_predictions))\n",
    "print \"F-score on testing data: {:.4f}\".format(fbeta_score(y_test, reduced_predictions, beta = 0.5))"
   ]
  },
  {
   "cell_type": "markdown",
   "metadata": {},
   "source": [
    "### Question 8 - Effects of Feature Selection\n",
    "\n",
    "* How does the final model's F-score and accuracy score on the reduced data using only five features compare to those same scores when all features are used?\n",
    "* If training time was a factor, would you consider using the reduced data as your training set?"
   ]
  },
  {
   "cell_type": "markdown",
   "metadata": {},
   "source": [
    "**Answer:**\n",
    "\n",
    "Inspite of reducing the features set, the model is maintaing a significanlty high accuracty(~97% to the original ) and f-score(94%). If training time was a factoer, I would have definately considered this model with the reduced features set(including only the important ones). "
   ]
  },
  {
   "cell_type": "markdown",
   "metadata": {},
   "source": [
    "> **Note**: Once you have completed all of the code implementations and successfully answered each question above, you may finalize your work by exporting the iPython Notebook as an HTML document. You can do this by using the menu above and navigating to  \n",
    "**File -> Download as -> HTML (.html)**. Include the finished document along with this notebook as your submission."
   ]
  }
 ],
 "metadata": {
  "kernelspec": {
   "display_name": "Python [conda env:py35]",
   "language": "python",
   "name": "conda-env-py35-py"
  },
  "language_info": {
   "codemirror_mode": {
    "name": "ipython",
    "version": 3
   },
   "file_extension": ".py",
   "mimetype": "text/x-python",
   "name": "python",
   "nbconvert_exporter": "python",
   "pygments_lexer": "ipython3",
   "version": "3.5.2"
  }
 },
 "nbformat": 4,
 "nbformat_minor": 1
}
